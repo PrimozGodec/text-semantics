{
  "nbformat": 4,
  "nbformat_minor": 0,
  "metadata": {
    "kernelspec": {
      "display_name": "Python 3",
      "language": "python",
      "name": "python3"
    },
    "language_info": {
      "codemirror_mode": {
        "name": "ipython",
        "version": 3
      },
      "file_extension": ".py",
      "mimetype": "text/x-python",
      "name": "python",
      "nbconvert_exporter": "python",
      "pygments_lexer": "ipython3",
      "version": "3.8.5"
    },
    "colab": {
      "name": "Copy of 04_06_specific_words_comparison_ctch.ipynb",
      "provenance": [],
      "collapsed_sections": []
    }
  },
  "cells": [
    {
      "cell_type": "markdown",
      "metadata": {
        "id": "3_5v2mJZmL5N"
      },
      "source": [
        "# Primerjava pristopov za luščenje ključnih besed na anotiranih besedilih iz revije Prispevki za novejšo zgodovino\n",
        "\n",
        "V tem zvezku predstavljamo primerjavo pristopov za luščenje ključnih besed iz  besedil iz revije Prispevki za novejšo zgodovino, ki imajo označene ključne besede. Ključne besede so označene s strani avtorjev člankov.\n",
        "\n",
        "Predstavili bomo objektivno primerjavo pristopov za luščenje besed. Primerjali bomo izluščene besede s ključnimi besedami, ki so jih označili avtorji člankov. V primerjavi z zvezkom `04_06_specific_words_comparison_ctch` bomo v tem zvezku uporabili drugačno mero za vrednotenje, ki temelji na računanju povprečne maksimalne podobnosti med ključnimi besedami predlaganimi s strani avtorja in s strani metode za odkrivanje ključnih besed."
      ]
    },
    {
      "cell_type": "code",
      "metadata": {
        "id": "yoQ0CtGZmL5b"
      },
      "source": [
        "import string\n",
        "import ast\n",
        "\n",
        "import nltk\n",
        "from textsemantics.server_api import ServerAPI\n",
        "from nltk.tokenize import RegexpTokenizer\n",
        "from nltk.corpus import stopwords\n",
        "from lemmagen.lemmatizer import Lemmatizer\n",
        "from lemmagen import DICTIONARY_SLOVENE\n",
        "from matplotlib import pyplot as plt\n",
        "import yake\n",
        "from gensim.summarization import keywords as gensim_kw\n",
        "import rake\n",
        "\n",
        "from textsemantics import specific_words\n",
        "from utils.scores import score_in_len_range, average_max_similarity"
      ],
      "execution_count": 1,
      "outputs": []
    },
    {
      "cell_type": "markdown",
      "metadata": {
        "id": "3Nui10cTmL5d"
      },
      "source": [
        "Naložimo metapodatke in dokumente iz zbirke CTCH - članki objavljeni v reviji CPrispevki za novejšo zgodovino. Dokumente preprocesiramo in izluščimo posamezne besede."
      ]
    },
    {
      "cell_type": "code",
      "metadata": {
        "id": "p-NJryz4mL5f",
        "colab": {
          "base_uri": "https://localhost:8080/"
        },
        "outputId": "f1fae668-b14a-464e-8a60-718bde78f5ff"
      },
      "source": [
        "nltk.download('stopwords', quiet=True)\n",
        "lemmatizer = Lemmatizer(dictionary=DICTIONARY_SLOVENE)\n",
        "\n",
        "def preprocess(corpus):\n",
        "    stop_words = set(stopwords.words('slovene'))\n",
        "    tokenizer = RegexpTokenizer(\"\\w+\")\n",
        "    \n",
        "    preprocessed = list()\n",
        "    for text in corpus:\n",
        "        text = text.translate(text.maketrans('', '', string.punctuation))\n",
        "        tokens = tokenizer.tokenize(text.lower())\n",
        "        tokens = [lemmatizer.lemmatize(token) for token in tokens if token not in stop_words \n",
        "                  and len(token) > 2 and not token.isnumeric()]\n",
        "        # lematizer in rare cases produce empty strings - removing them\n",
        "        tokens = list(filter(lambda a: a != '', tokens))  \n",
        "        preprocessed.append(tokens)\n",
        "        \n",
        "    return preprocessed\n",
        "\n",
        "api = ServerAPI()\n",
        "metadata = api.get_metadata('CTCH')\n",
        "metadata[\"texts\"] = api.get_texts(urls=metadata['File'])\n",
        "# stolpec s ključnimi besedami vsebuje seznam zapisan kot niz - pretovri v seznam\n",
        "metadata[\"Keywords\"] = metadata[\"Keywords\"].apply(ast.literal_eval)\n",
        "# pretvorba ključnih besed v posamezne besede in lematizacija\n",
        "metadata[\"Keywords_one_word\"] = metadata[\"Keywords\"].apply(\n",
        "    lambda ph: [lemmatizer.lemmatize(w) for p in ph for w in p.split()]\n",
        ")\n",
        "# izpusti en članek brez ključnih besed\n",
        "metadata = metadata[metadata[\"Keywords_one_word\"].str.len() != 0]\n",
        "\n",
        "full_texts = metadata[\"Abstract\"] + \"\\n\" + metadata[\"texts\"]\n",
        "tokens_list = preprocess(full_texts)\n",
        "\n",
        "print(f\"Število dokumentov: {len(metadata)}\")"
      ],
      "execution_count": 2,
      "outputs": [
        {
          "output_type": "stream",
          "text": [
            "Število dokumentov: 83\n"
          ],
          "name": "stdout"
        }
      ]
    },
    {
      "cell_type": "markdown",
      "metadata": {
        "id": "FqlQLbbOmL5i"
      },
      "source": [
        "Poglejmo si podatkte in izseke prvih 5 dokumentov"
      ]
    },
    {
      "cell_type": "code",
      "metadata": {
        "id": "191FiopOmL5i",
        "colab": {
          "base_uri": "https://localhost:8080/",
          "height": 476
        },
        "outputId": "b21b4df8-a745-4676-f51f-15e283951391"
      },
      "source": [
        "metadata.head()"
      ],
      "execution_count": 3,
      "outputs": [
        {
          "output_type": "execute_result",
          "data": {
            "text/html": [
              "<div>\n",
              "<style scoped>\n",
              "    .dataframe tbody tr th:only-of-type {\n",
              "        vertical-align: middle;\n",
              "    }\n",
              "\n",
              "    .dataframe tbody tr th {\n",
              "        vertical-align: top;\n",
              "    }\n",
              "\n",
              "    .dataframe thead th {\n",
              "        text-align: right;\n",
              "    }\n",
              "</style>\n",
              "<table border=\"1\" class=\"dataframe\">\n",
              "  <thead>\n",
              "    <tr style=\"text-align: right;\">\n",
              "      <th></th>\n",
              "      <th>Title</th>\n",
              "      <th>Abstract</th>\n",
              "      <th>Keywords</th>\n",
              "      <th>File</th>\n",
              "      <th>URL</th>\n",
              "      <th>texts</th>\n",
              "      <th>Keywords_one_word</th>\n",
              "    </tr>\n",
              "  </thead>\n",
              "  <tbody>\n",
              "    <tr>\n",
              "      <th>0</th>\n",
              "      <td>Hrana na bojiščih prve svetovne vojne: izkušnj...</td>\n",
              "      <td>Prehrana vojakov na bojišču je bila vedno izre...</td>\n",
              "      <td>[Avstro-Ogrska, 1. svetovna vojna, vojaška izk...</td>\n",
              "      <td>http://file.biolab.si/text-semantics/data/CTCH...</td>\n",
              "      <td>https://ojs.inz.si/pnz/article/view/95/109</td>\n",
              "      <td>1. Raziskovanje vojaških izkušenj\\nV zadnjih d...</td>\n",
              "      <td>[Avstro-Ogrski, 1., svetoven, vojen, vojaški, ...</td>\n",
              "    </tr>\n",
              "    <tr>\n",
              "      <th>1</th>\n",
              "      <td>Ženske v vojni in o véliki vojni</td>\n",
              "      <td>Članek se ukvarja z vplivi prve svetovne vojne...</td>\n",
              "      <td>[prva svetovna vojna, ženske, zgodovina spola,...</td>\n",
              "      <td>http://file.biolab.si/text-semantics/data/CTCH...</td>\n",
              "      <td>https://ojs.inz.si/pnz/article/view/91/113</td>\n",
              "      <td>V zadnjih dvajsetih letih je prva svetovna voj...</td>\n",
              "      <td>[prvi, svetoven, vojen, ženski, zgodovina, spo...</td>\n",
              "    </tr>\n",
              "    <tr>\n",
              "      <th>2</th>\n",
              "      <td>»Militarizacija materinstva« – ženski »naravni...</td>\n",
              "      <td>Prispevek s pomočjo publicistike, zakonodaje, ...</td>\n",
              "      <td>[materinstvo, rodnost, vzgoja, otroci, ženske]</td>\n",
              "      <td>http://file.biolab.si/text-semantics/data/CTCH...</td>\n",
              "      <td>https://ojs.inz.si/pnz/article/view/92/114</td>\n",
              "      <td>1. Uvod1\\nV času prve svetovne vojne je v štev...</td>\n",
              "      <td>[materinstvo, rodnost, vzgoja, otrok, ženski]</td>\n",
              "    </tr>\n",
              "    <tr>\n",
              "      <th>3</th>\n",
              "      <td>Skrb v službi vojne: bolniške strežnice na Kra...</td>\n",
              "      <td>Že pred začetkom prve svetovne vojne je v Avst...</td>\n",
              "      <td>[bolniške sestre, strežnice, prva svetovna voj...</td>\n",
              "      <td>http://file.biolab.si/text-semantics/data/CTCH...</td>\n",
              "      <td>https://ojs.inz.si/pnz/article/view/84/111</td>\n",
              "      <td>1. Uvod\\nNa Slovenskem dojemanje prve svetovne...</td>\n",
              "      <td>[bolniški, sestra, strežnica, prvi, svetoven, ...</td>\n",
              "    </tr>\n",
              "    <tr>\n",
              "      <th>4</th>\n",
              "      <td>K razumevanju ženskega dela v veliki vojni1</td>\n",
              "      <td>Članek se ukvarja s presekom vojne ekonomije i...</td>\n",
              "      <td>[prva svetovna vojna, vojno gospodarstvo, žens...</td>\n",
              "      <td>http://file.biolab.si/text-semantics/data/CTCH...</td>\n",
              "      <td>https://ojs.inz.si/pnz/article/view/90/106</td>\n",
              "      <td>1. Uvod\\nIzstopajoči delež zgodovinskih razisk...</td>\n",
              "      <td>[prvi, svetoven, vojen, vojen, gospodarstvo, ž...</td>\n",
              "    </tr>\n",
              "  </tbody>\n",
              "</table>\n",
              "</div>"
            ],
            "text/plain": [
              "                                               Title  ...                                  Keywords_one_word\n",
              "0  Hrana na bojiščih prve svetovne vojne: izkušnj...  ...  [Avstro-Ogrski, 1., svetoven, vojen, vojaški, ...\n",
              "1                   Ženske v vojni in o véliki vojni  ...  [prvi, svetoven, vojen, ženski, zgodovina, spo...\n",
              "2  »Militarizacija materinstva« – ženski »naravni...  ...      [materinstvo, rodnost, vzgoja, otrok, ženski]\n",
              "3  Skrb v službi vojne: bolniške strežnice na Kra...  ...  [bolniški, sestra, strežnica, prvi, svetoven, ...\n",
              "4        K razumevanju ženskega dela v veliki vojni1  ...  [prvi, svetoven, vojen, vojen, gospodarstvo, ž...\n",
              "\n",
              "[5 rows x 7 columns]"
            ]
          },
          "metadata": {
            "tags": []
          },
          "execution_count": 3
        }
      ]
    },
    {
      "cell_type": "markdown",
      "metadata": {
        "id": "9wowfplfmL5k"
      },
      "source": [
        "Sedaj bomo pridobili ključne besede z vsako od primerjanih metod:\n",
        "- [TF-IDF](https://github.com/biolab/text-semantics/blob/main/examples/04_03_specific_words_with_tfidf.ipynb)\n",
        "- [Metodi z vložitvami:](https://github.com/biolab/text-semantics/blob/main/examples/04_01_specific_words_with_embeddings.ipynb) 1) upoštevajoč vse besede v korpusu, 2) samo na besedah v dokumentih\n",
        "- [RAKE](https://onlinelibrary.wiley.com/doi/abs/10.1002/9780470689646.ch1)\n",
        "- [Yake!](https://onlinelibrary.wiley.com/doi/abs/10.1002/9780470689646.ch1)\n",
        "- [TextRank](https://web.eecs.umich.edu/~mihalcea/papers/mihalcea.emnlp04.pdf)"
      ]
    },
    {
      "cell_type": "code",
      "metadata": {
        "id": "3htD87rbmL5l",
        "colab": {
          "base_uri": "https://localhost:8080/"
        },
        "outputId": "73454433-435b-4313-c423-296a3f3aff16"
      },
      "source": [
        "%%time \n",
        "tfidf_keywords = specific_words.tfidf_keywords(tokens=tokens_list)\n",
        "tfidf_keywords = [[x for x, _ in wds] for wds in tfidf_keywords]"
      ],
      "execution_count": 4,
      "outputs": [
        {
          "output_type": "stream",
          "text": [
            "CPU times: user 3.91 s, sys: 26.4 ms, total: 3.93 s\n",
            "Wall time: 3.94 s\n"
          ],
          "name": "stdout"
        }
      ]
    },
    {
      "cell_type": "code",
      "metadata": {
        "id": "ZPXtEPcfmL5m",
        "colab": {
          "base_uri": "https://localhost:8080/"
        },
        "outputId": "22bb3ee2-7e97-43e6-df16-8615a6106653"
      },
      "source": [
        "%%time\n",
        "emb_corp_keywords = specific_words.embedding_corpus_keywords(tokens=tokens_list)\n",
        "emb_corp_keywords = [[x for x, _ in wds] for wds in emb_corp_keywords]"
      ],
      "execution_count": 5,
      "outputs": [
        {
          "output_type": "stream",
          "text": [
            "CPU times: user 1min 24s, sys: 1.03 s, total: 1min 25s\n",
            "Wall time: 1min 25s\n"
          ],
          "name": "stdout"
        }
      ]
    },
    {
      "cell_type": "code",
      "metadata": {
        "id": "ZzkJ7aKDmL5n",
        "colab": {
          "base_uri": "https://localhost:8080/"
        },
        "outputId": "5a1ac745-5936-41e7-c313-55867e324c96"
      },
      "source": [
        "%%time \n",
        "emb_doc_keywords = specific_words.embedding_document_keywords(tokens=tokens_list)\n",
        "emb_doc_keywords = [[x for x, _ in wds] for wds in emb_doc_keywords]"
      ],
      "execution_count": 6,
      "outputs": [
        {
          "output_type": "stream",
          "text": [
            "CPU times: user 19 s, sys: 580 ms, total: 19.6 s\n",
            "Wall time: 19.7 s\n"
          ],
          "name": "stdout"
        }
      ]
    },
    {
      "cell_type": "code",
      "metadata": {
        "id": "diIYrzXomL5o",
        "colab": {
          "base_uri": "https://localhost:8080/"
        },
        "outputId": "baef885b-7b7b-468b-8e22-89f408fa8088"
      },
      "source": [
        "%%time \n",
        "stop_path = \"utils/slovenian-stopwords.txt\"\n",
        "def rake_method(text):\n",
        "    rake_object = rake.Rake(stop_path, max_words_length=1)\n",
        "    kw = rake_object.run(text)\n",
        "    # rake works on unormalized texts so normalize them afterwards\n",
        "    return [lemmatizer.lemmatize(x) for x, _ in kw]\n",
        "\n",
        "rake_keywords = [rake_method(txt) for txt in full_texts]"
      ],
      "execution_count": 7,
      "outputs": [
        {
          "output_type": "stream",
          "text": [
            "CPU times: user 45.2 s, sys: 9.24 ms, total: 45.2 s\n",
            "Wall time: 45.3 s\n"
          ],
          "name": "stdout"
        }
      ]
    },
    {
      "cell_type": "code",
      "metadata": {
        "id": "zK2gYmy0mL5p",
        "colab": {
          "base_uri": "https://localhost:8080/"
        },
        "outputId": "8681eac0-9ef1-46b5-cf31-175f117339ea"
      },
      "source": [
        "%%time \n",
        "custom_kw_extractor = yake.KeywordExtractor(lan=\"sl\", n=1)\n",
        "def yake_method(text):\n",
        "    kw = custom_kw_extractor.extract_keywords(text)\n",
        "    return [lemmatizer.lemmatize(x) for x, _ in kw]\n",
        "\n",
        "yake_keywords = [yake_method(txt) for txt in full_texts]"
      ],
      "execution_count": 8,
      "outputs": [
        {
          "output_type": "stream",
          "text": [
            "CPU times: user 44.9 s, sys: 717 ms, total: 45.7 s\n",
            "Wall time: 45.8 s\n"
          ],
          "name": "stdout"
        }
      ]
    },
    {
      "cell_type": "code",
      "metadata": {
        "id": "xcxY0AbPmL5q",
        "colab": {
          "base_uri": "https://localhost:8080/"
        },
        "outputId": "98d6bb7f-d373-4224-9b00-bb22d666d133"
      },
      "source": [
        "%%time\n",
        "def text_rank(tokens):\n",
        "    kw = gensim_kw(\" \".join(tokens), words=20, scores=True)\n",
        "    return [x for w, _ in kw for x in w.split()]\n",
        "\n",
        "text_rank_keywords = [text_rank(tokens) for tokens in tokens_list]"
      ],
      "execution_count": 9,
      "outputs": [
        {
          "output_type": "stream",
          "text": [
            "CPU times: user 4min 23s, sys: 39.8 s, total: 5min 3s\n",
            "Wall time: 4min 46s\n"
          ],
          "name": "stdout"
        }
      ]
    },
    {
      "cell_type": "code",
      "metadata": {
        "id": "ZK_XIw30mL5q"
      },
      "source": [
        "methods = [\n",
        "    (\"Emb - korpus\", emb_corp_keywords),\n",
        "    (\"Emb - document\", emb_doc_keywords),\n",
        "    (\"TFIDF\", tfidf_keywords),\n",
        "    (\"RAKE\", rake_keywords),\n",
        "    (\"YAKE\", yake_keywords),\n",
        "    (\"TextRank\", text_rank_keywords),\n",
        "]"
      ],
      "execution_count": 10,
      "outputs": []
    },
    {
      "cell_type": "markdown",
      "metadata": {
        "id": "XT8_XZMemL5r"
      },
      "source": [
        "Ko imamo pridobljene ključne besede, si izpišemo povprečno število ključnih besed in najmanjše število ključnih besed, ki jih vsaka od metod vrne. Te statitike nam služijo zgolj, da vidimo ali je bila izluščitev besed uspešna. Nekatere metode omogočajo nastavljanje števila najbolj pomembnih ključnih besed zato imamo tam tipično manj ključnih besed na besedilo."
      ]
    },
    {
      "cell_type": "code",
      "metadata": {
        "id": "YFrjD9dImL5s",
        "colab": {
          "base_uri": "https://localhost:8080/"
        },
        "outputId": "3a35fe8e-4495-4e96-de49-9080fd4a7823"
      },
      "source": [
        "for name, kw in methods:\n",
        "    print(\n",
        "        f\"{name} - Povprečno število besed:\", \n",
        "        f\"{sum(len(x) for x in kw) / len(kw):.1f}\",\n",
        "        \"Minimalno število specifičnih besed:\",\n",
        "        min(len(x) for x in kw)\n",
        "    )"
      ],
      "execution_count": 11,
      "outputs": [
        {
          "output_type": "stream",
          "text": [
            "Emb - korpus - Povprečno število besed: 25670.0 Minimalno število specifičnih besed: 25670\n",
            "Emb - document - Povprečno število besed: 1354.6 Minimalno število specifičnih besed: 707\n",
            "TFIDF - Povprečno število besed: 1354.4 Minimalno število specifičnih besed: 707\n",
            "RAKE - Povprečno število besed: 577.0 Minimalno število specifičnih besed: 96\n",
            "YAKE - Povprečno število besed: 20.0 Minimalno število specifičnih besed: 20\n",
            "TextRank - Povprečno število besed: 20.4 Minimalno število specifičnih besed: 20\n"
          ],
          "name": "stdout"
        }
      ]
    },
    {
      "cell_type": "markdown",
      "metadata": {
        "id": "82pgQOGamL5t"
      },
      "source": [
        "Izračunajmo natančnost s pripravljeno meramo in jo izrišimo. Izračunamo povprečno maksimalno podobnost za različno število izbranih najbolj pomembnih ključnih besed. Z vsako metodo smo pridobili seznam ključnih besed, ki je razvrščen po pomembnosti. Za namen izrisa grafov smo se odločili, da izračunamo mero za število ključnih besed v intervalu med 1 in 20. Na ta način vidimo kako uspešna je metoda glede na izbrano število ključnih besed.\n",
        "\n",
        "Izrišemo graf, ki prikazuje vrednost mere v odvisnosti od števila izbranih najboljših ključnih besed. \n"
      ]
    },
    {
      "cell_type": "code",
      "metadata": {
        "id": "mCs8XvtRmL5u"
      },
      "source": [
        "kw = metadata['Keywords_one_word']\n",
        "sim_scores = [score_in_len_range(pred, kw, average_max_similarity, embeddings=True) for _, pred in methods]"
      ],
      "execution_count": 12,
      "outputs": []
    },
    {
      "cell_type": "code",
      "metadata": {
        "id": "EWmU8ycVmL5v",
        "colab": {
          "base_uri": "https://localhost:8080/",
          "height": 326
        },
        "outputId": "f745ee0f-a52c-4f2c-c8fd-682596917b6d"
      },
      "source": [
        "fig = plt.figure(figsize=(12,8))\n",
        "fig.patch.set_facecolor('white')\n",
        "\n",
        "scores = (\n",
        "    (\"Maximum Similarity Score\", sim_scores),\n",
        ")\n",
        "for i, (title, sc) in enumerate(scores):\n",
        "    plt.subplot(2, 2, i + 1)\n",
        "    for p, (l, _) in zip(sc, methods):\n",
        "        plt.plot(range(1, 21), p, label=l)\n",
        "    plt.legend()\n",
        "    plt.title(title)\n",
        "    plt.xlabel(\"Number keywords\")\n",
        "    plt.ylabel(title)\n",
        "        \n",
        "plt.tight_layout()"
      ],
      "execution_count": 13,
      "outputs": [
        {
          "output_type": "display_data",
          "data": {
            "image/png": "[encoded data removed]",
            "text/plain": [
              "<Figure size 864x576 with 1 Axes>"
            ]
          },
          "metadata": {
            "tags": []
          }
        }
      ]
    },
    {
      "cell_type": "markdown",
      "metadata": {
        "id": "mVgjfE2WmL5x"
      },
      "source": [
        "Opazimo lahko zelo podobne rezultate kot pri primerjavi z uporabo preciznosti, preklica in mere F1."
      ]
    }
  ]
}