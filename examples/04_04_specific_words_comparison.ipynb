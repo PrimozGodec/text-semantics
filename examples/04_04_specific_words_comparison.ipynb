{
 "cells": [
  {
   "cell_type": "markdown",
   "metadata": {},
   "source": [
    "# Primerjava pristopov za specifične besede\n",
    "\n",
    "V tej skripti primerjamo pristope za izbor specifičnih (ključnih) besed v vsakem besedilu."
   ]
  },
  {
   "cell_type": "code",
   "execution_count": 26,
   "metadata": {},
   "outputs": [],
   "source": [
    "import string\n",
    "from collections import Counter\n",
    "\n",
    "import nltk\n",
    "import pandas as pd\n",
    "import seaborn as sns\n",
    "from textsemantics.server_api import ServerAPI\n",
    "from nltk.tokenize import RegexpTokenizer\n",
    "from nltk.corpus import stopwords\n",
    "from lemmagen.lemmatizer import Lemmatizer\n",
    "from lemmagen import DICTIONARY_SLOVENE\n",
    "from sklearn.feature_extraction.text import TfidfVectorizer\n",
    "from IPython.display import display, Markdown\n",
    "\n",
    "from utils.specific_words import prepare_data, find_corpus_words, find_document_words\n",
    "from utils.word_enrichment import hypergeom_p_values, FDR"
   ]
  },
  {
   "cell_type": "markdown",
   "metadata": {},
   "source": [
    "Naloži metapodatke, vse dokumente in jih predprocesiraj"
   ]
  },
  {
   "cell_type": "code",
   "execution_count": 3,
   "metadata": {},
   "outputs": [],
   "source": [
    "nltk.download('stopwords', quiet=True)\n",
    "\n",
    "def preprocess(corpus):\n",
    "    stop_words = set(stopwords.words('slovene'))\n",
    "    tokenizer = RegexpTokenizer(\"\\w+\")\n",
    "    lemmatizer = Lemmatizer(dictionary=DICTIONARY_SLOVENE)\n",
    "    \n",
    "    preprocessed = list()\n",
    "    for text in corpus:\n",
    "        text = text.translate(text.maketrans('', '', string.punctuation))\n",
    "        tokens = tokenizer.tokenize(text.lower())\n",
    "        tokens = [lemmatizer.lemmatize(token) for token in tokens if token not in stop_words \n",
    "                  and len(token) > 2 and not token.isnumeric()]\n",
    "        preprocessed.append(tokens)\n",
    "        \n",
    "    return preprocessed\n",
    "\n",
    "api = ServerAPI()\n",
    "datasets = api.list_datasets()\n",
    "metadata = api.get_metadata(datasets[2][0], sample_size=100, sampling_strategy='latest')\n",
    "\n",
    "texts = api.get_texts(urls=metadata['text'])\n",
    "metadata[\"texts\"] = texts\n",
    "data = metadata[metadata[\"texts\"].str.len() > 50]\n",
    "\n",
    "tokens_list = preprocess(data[\"texts\"])"
   ]
  },
  {
   "cell_type": "markdown",
   "metadata": {},
   "source": [
    "Upoabimo metodo za iskanje specifičnih besed s pomočjo embeddingov."
   ]
  },
  {
   "cell_type": "code",
   "execution_count": 19,
   "metadata": {},
   "outputs": [
    {
     "name": "stderr",
     "output_type": "stream",
     "text": [
      "/Users/primoz/PycharmProjects/text-semantics/examples/utils/specific_words.py:39: RuntimeWarning: invalid value encountered in double_scalars\n",
      "  return x.dot(y) / np.linalg.norm(x) / np.linalg.norm(y)\n"
     ]
    }
   ],
   "source": [
    "doc_embs, words, word_embs, word2doc, doc2word = prepare_data(tokens_list)\n",
    "specific_emb1 = find_corpus_words(doc_embs, words, word_embs)\n",
    "specific_emb2 = find_document_words(doc_embs, words, word_embs, word2doc, doc2word)"
   ]
  },
  {
   "cell_type": "markdown",
   "metadata": {},
   "source": [
    "Upoabimo metodo za iskanje specifičnih besed s pomočjo word enrichment."
   ]
  },
  {
   "cell_type": "code",
   "execution_count": 43,
   "metadata": {},
   "outputs": [],
   "source": [
    "joined_texts = [' '.join(tokens) for tokens in tokens_list]\n",
    "vectorizer = TfidfVectorizer()\n",
    "X = vectorizer.fit_transform(joined_texts)\n",
    "words = vectorizer.get_feature_names()\n",
    "\n",
    "def specific_words_enrichment(document_index):\n",
    "    p_values = hypergeom_p_values(X, X[document_index])\n",
    "#     fdr = FDR(p_values)\n",
    "    df = pd.DataFrame(\n",
    "        {\"Besede\": words, \"P-Vrednost\": p_values}\n",
    "    ).sort_values(\"P-Vrednost\", axis=0)\n",
    "    return df[\"Besede\"].values\n",
    "\n",
    "specific_enrichment = [specific_words_enrichment(i) for i in range(len(data['texts']))]"
   ]
  },
  {
   "cell_type": "markdown",
   "metadata": {},
   "source": [
    "Upoabimo metodo za iskanje specifičnih besed s pomočjo TF-IDF."
   ]
  },
  {
   "cell_type": "code",
   "execution_count": 13,
   "metadata": {},
   "outputs": [],
   "source": [
    "def find_tfidf_words(document_id):\n",
    "    feature_index = X[document_id,:].nonzero()[1]\n",
    "    features = [(words[i], X[document_id, i]) for i in feature_index]\n",
    "    words_score = sorted(features, key=lambda tup: tup[1], reverse=True)\n",
    "    return [w for w, s in words_score]\n",
    "\n",
    "specific_tfidf = [find_tfidf_words(i) for i in range(len(data['texts']))]"
   ]
  },
  {
   "cell_type": "markdown",
   "metadata": {},
   "source": [
    "## Grafična primerjava specifičnih besed\n",
    "\n",
    "Specifične besede izbrane štirimi raličnimi pristopi bomo najprej primerjali grafično. Pripravimo metodo, ki izpiše besedilo in specifične besede, nato pa še izriše graf, ki prikazuje prisotnost posamezne besede pri vsaki od metod. Rezultate pokažemo na štirih besedilih."
   ]
  },
  {
   "cell_type": "code",
   "execution_count": 33,
   "metadata": {},
   "outputs": [],
   "source": [
    "def plot_specific_words(document_id):\n",
    "    num_words = 15\n",
    "    md = f\"### {data.iloc[document_id].loc['title']}\\n{data.iloc[document_id].loc['texts']}\\n\"\n",
    "\n",
    "    method_names = [\"Emb 1\", \"Emb 2\", \"W. enrichment\", \"TF-IDF\"]\n",
    "    sp_words = [specific_emb1, specific_emb2, specific_enrichment, specific_tfidf]\n",
    "    spec_words = [method[document_id][:num_words] for method in sp_words]\n",
    "\n",
    "    # join specific words for method\n",
    "    for method, sp_words in zip(method_names, spec_words):\n",
    "        md += f\"- **{method}**: {', '.join(sp_words)}\\n\"\n",
    "    display(Markdown(md))\n",
    "\n",
    "    # heatmap\n",
    "    all_words = [c for c, _ in Counter([y for x in spec_words for y in x]).most_common()]\n",
    "    belongs = [[word in m for m in spec_words] for word in all_words]\n",
    "    sns.heatmap(pd.DataFrame(belongs, columns=method_names, index=all_words), cmap='Blues')"
   ]
  },
  {
   "cell_type": "code",
   "execution_count": 34,
   "metadata": {},
   "outputs": [
    {
     "data": {
      "text/markdown": [
       "### Videvanja z partnerjem z tujine med epidemijo.\n",
       "Predlagam, da se kot izjema za prehajanje regije, občine ali državne meje, uvede tudi vzdrževanje stikov z partnerji iz tujine. Sam, kot tudi drugi smo namreč zaradi tega prizadeti, saj nas veliko živi ob meji s Hrvaško na primer, 15 min vožnje stran eden od drugega, a zaradi restriktivnih srečanje ni možno, čez Kolpo si pa lahko mahamo. Je bil 1. Val dovolj, da se nisem mogel videti s punco, katere tudi skoraj nisem prepoznal, po 2 mesecih razdvojenosti. Lp\n",
       "- **Emb 1**: meja, kolpa, regija, val, preža, migracija, tujina, vrana, povezava, vran, ina, punca, sosednji, okolica, stran\n",
       "- **Emb 2**: predlagati, lahek, velik, dovolj, sam, meja, videti, prepoznati, razdvojenost, prehajanje, punca, primer, tujina, kolpa, možen\n",
       "- **W. enrichment**: vzdrževanje, punca, razdvojenost, partner, regija, mahati, mina, restriktiven, kolpa, živ, hrvaški, prehajanje, tujina, prepoznati, srečanje\n",
       "- **TF-IDF**: meja, kolpa, mahati, mina, partner, punca, razdvojenost, regija, restriktiven, vzdrževanje, hrvaški, prehajanje, tujina, živ, prepoznati\n"
      ],
      "text/plain": [
       "<IPython.core.display.Markdown object>"
      ]
     },
     "metadata": {},
     "output_type": "display_data"
    },
    {
     "data": {
      "image/png": "[encoded data removed]",
      "text/plain": [
       "<Figure size 432x288 with 2 Axes>"
      ]
     },
     "metadata": {
      "needs_background": "light"
     },
     "output_type": "display_data"
    }
   ],
   "source": [
    "plot_specific_words(13)"
   ]
  },
  {
   "cell_type": "markdown",
   "metadata": {},
   "source": [
    "Besede so razvrščene glede na pogostost identifikacije s strani pristopov."
   ]
  },
  {
   "cell_type": "code",
   "execution_count": 35,
   "metadata": {},
   "outputs": [
    {
     "data": {
      "text/markdown": [
       "### Letos učenci naj ne bodo ocenjeni\n",
       "Zaradi ponovnega dela na daljavo bo znanje učencev slabo, hkrati bo pomanjkanje ocen oziroma bodo te verjetno (tako, kot lansko leto) bolj domišljijske, kot realne. Predlagam, da se za letošnje leto zgolj ugotovi, ali je učenec letnik OPRAVIL, OPRAVIL S POHVALO ali pa NI OPRAVIL. Za prehod na naslednji nivo šolanja (torej iz osnovne na srednjo ter srednje na visoko šolo) pa naj se končno ponovno uvede sprejemne izpite. Vsaka šola zase najbolje ve, katera znanja in sposobnosti želi pri svojih dijakih oziroma študentih. Prav tako je vsem jasno, da zbiranje točk za vpis s seštevanjem ocen, ki so ali niso realne/izsiljene/podarjene ni pošteno niti smiselno.\n",
       "- **Emb 1**: šolanje, dijak, izpit, srednji, učenec, znanje, srednješolec, učen, šolski, poučevanje, učitelj, študij, letošnji, ocenjevanje, učenje\n",
       "- **Emb 2**: predlagati, osnoven, šolanje, znanje, dijak, izpit, realen, smiseln, ponoven, šola, letošnji, vpis, slab, opravilo, končen\n",
       "- **W. enrichment**: seštevanje, sposobnost, pohvala, opravilo, pomanjkanje, ocena, domišljijski, realneizsiljenepodarjen, vpis, ugotoviti, sprejemen, končen, letošnji, pošten, prehod\n",
       "- **TF-IDF**: opravilo, ocena, učenec, znanje, ponoven, srednji, leto, šola, domišljijski, pohvala, pomanjkanje, realneizsiljenepodarjen, seštevanje, sposobnost, jasen\n"
      ],
      "text/plain": [
       "<IPython.core.display.Markdown object>"
      ]
     },
     "metadata": {},
     "output_type": "display_data"
    },
    {
     "data": {
      "image/png": "[encoded data removed]",
      "text/plain": [
       "<Figure size 432x288 with 2 Axes>"
      ]
     },
     "metadata": {
      "needs_background": "light"
     },
     "output_type": "display_data"
    }
   ],
   "source": [
    "plot_specific_words(15)"
   ]
  },
  {
   "cell_type": "code",
   "execution_count": 36,
   "metadata": {},
   "outputs": [
    {
     "data": {
      "text/markdown": [
       "### Finančna pomoč gorskim reševalcem 2\n",
       "Ponovno dajem na glasovanje predlog v upanju, da bo sedaj zadosti podpore, da bi se ta predlog začel odvijat v pravo smer.\n",
       " \n",
       "Predlagam, da bi ob posredovanjih gorske reševalne službe v primeru, da se pohodnik v hribih poškoduje in je bilo ob reševanju ugotovljeno, da ni imel ustrezne opreme za hojo v hribih denarno kaznuje pohodnika, kazen bi dodelil vodja reševanja in bi potem podal podatke za kazen naprej na policijo, in od te kazni bi se denar nameni gorski reševalni službi, ki je posredovala v tistem času, za primer recimo: reševanje brez helikopterja 100% gre denar v društvo, ob posredovanju z helikopterjem bi se ta kazen nekoliko razpolovila in bi nekaj denarja dobila enota HeNMP za stroške goriva nekaj pa gorska reševalna služba. Vemo, da je bil pred kakšnim letom na televiziji prispevek o gorski reševalni službi iz Kamnika kjer so zbirali sredstva za dostojen objekt v katerem bi imeli vso opremo za posredovanja in vozila. In menim, da bi s takim načinom lahko omogočili brezskrbno nadaljne posredovanje in ohranitev društev.\n",
       "- **Emb 1**: reševanje, posredovanje, gorski, služba, helikopter, posredovati, priskočiti, usposabljanje, reševati, kazen, policija, vozilo, usposabljati, kazenski, pohodnik\n",
       "- **Emb 2**: predlagati, imeti, posredovati, iti, omogočiti, kaznovati, lahek, vedeti, posredovanje, služba, podati, začeti, dobiti, policija, denar\n",
       "- **W. enrichment**: kamnik, gorski, posredovanje, posredovati, dostojen, helikopter, henmp, glasovanje, podati, ugotovljen, reševalen, razpoloviti, poškodovati, pohodnik, brezskrben\n",
       "- **TF-IDF**: gorski, posredovanje, reševalen, kazen, služba, reševanje, denar, helikopter, pohodnik, hrib, oprema, društvo, predlog, primer, brezskrben\n"
      ],
      "text/plain": [
       "<IPython.core.display.Markdown object>"
      ]
     },
     "metadata": {},
     "output_type": "display_data"
    },
    {
     "data": {
      "image/png": "[encoded data removed]",
      "text/plain": [
       "<Figure size 432x288 with 2 Axes>"
      ]
     },
     "metadata": {
      "needs_background": "light"
     },
     "output_type": "display_data"
    }
   ],
   "source": [
    "plot_specific_words(16)"
   ]
  },
  {
   "cell_type": "code",
   "execution_count": 51,
   "metadata": {},
   "outputs": [],
   "source": [
    "pd.DataFrame(X.toarray(), columns=words).to_csv(\"tfidf.csv\", index=False)"
   ]
  },
  {
   "cell_type": "markdown",
   "metadata": {},
   "source": [
    "## Globalna primerjava - ideje"
   ]
  },
  {
   "cell_type": "markdown",
   "metadata": {},
   "source": [
    "Pregledal sem več virov in večinoma primerjajo tako, da vzamejo ali besedila, ki imajo keyworde (članki) v enem primeru pa sem zasledil, da to naredijo brez predhodnih keywordov. V tem primeru vzamejo besedila, ki so klasificirana v več skupin in računajo kako dobri značilke so keywordi za klasifikacijo v te skupine z SVN in Information Gain. Jaz predlagama dve možnosti:\n",
    "1. Najdemo besedila z obstoječimi keywordi in preizkusimo naše pristope na njih - besedila iz člankov.\n",
    "2. Najdemo besedila z skupinami (eden od corpusov iz Oranga) - in izvedemo to drugo možnost s klasifikacijo.\n",
    "3. Nekako določimo skupine našim besedilom (clustering - ne dela dobro) in potem uporabimo 2."
   ]
  },
  {
   "cell_type": "code",
   "execution_count": null,
   "metadata": {},
   "outputs": [],
   "source": []
  }
 ],
 "metadata": {
  "kernelspec": {
   "display_name": "Python 3",
   "language": "python",
   "name": "python3"
  },
  "language_info": {
   "codemirror_mode": {
    "name": "ipython",
    "version": 3
   },
   "file_extension": ".py",
   "mimetype": "text/x-python",
   "name": "python",
   "nbconvert_exporter": "python",
   "pygments_lexer": "ipython3",
   "version": "3.8.5"
  }
 },
 "nbformat": 4,
 "nbformat_minor": 4
}
