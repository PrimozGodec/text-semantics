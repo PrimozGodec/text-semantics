{
 "cells": [
  {
   "cell_type": "markdown",
   "metadata": {
    "id": "WGwuELZZUfED"
   },
   "source": [
    "# Iskanje besed specifičnih za dokumente z uporabo vložitev fastText"
   ]
  },
  {
   "cell_type": "markdown",
   "metadata": {
    "id": "pmEW2fr2Up_2"
   },
   "source": [
    "Kot je že prikazano v enem od prejšnjih primerov, je z uporabo vložitev fastText zelo enostavno računati razdalje in podobnosti med dokumenti in besedami. Takrat smo pokazali, kako za eden dokument lahko določimo specifične besede z iskanjem tistih, ki so najbolj podobne dokumentu. Vendar pa je lahko beseda zelo podobna tudi ostalim dokumentom in takrat bi rekli, da taka beseda ne bo specifična za kateri koli dokument. V takem primeru lahko pri računanju specifične besede za določeni dokument upoštevamo tudi njeno podobnost z drugimi dokumenti. Tako želimo dobiti tiste besede, ki so čim bližje ciljnemu dokumentu in čim bolj daleč stran od vseh ostalih."
   ]
  },
  {
   "cell_type": "markdown",
   "metadata": {
    "id": "FeLVMjMLWVhR"
   },
   "source": [
    "Iz seznama predlogov vladi si izberimo zadnjih 100 dokumentov, jih predobledajmo na isti način kot v prejšnjih primerih in za vsak dokument izračunajmo najbolj specifične besede. Uporabili bomo dva pristopa z eno ključno razliko - pri prvem pristopu je kandidat za specifično besedo posameznega dokumenta vsaka beseda, ki se nahaja v korpusu (v nadaljevanju besede iz korpusa), pri drugem so pa kandidati le besede, ki se nahajajo v ciljenm dokumentu (v nadaljevanju besede iz dokumenta). Pričakujemo, da bodo besede iz korpusa dale boljše rezultate, vendar je tudi časovna zahtevnost računanja večja."
   ]
  },
  {
   "cell_type": "code",
   "execution_count": 1,
   "metadata": {
    "id": "E7oBUANqIGzm"
   },
   "outputs": [],
   "source": [
    "from textsemantics.server_api import ServerAPI\n",
    "import string\n",
    "import nltk\n",
    "from nltk.tokenize import RegexpTokenizer\n",
    "from nltk.corpus import stopwords\n",
    "from lemmagen.lemmatizer import Lemmatizer\n",
    "from lemmagen import DICTIONARY_SLOVENE\n",
    "import numpy as np\n",
    "\n",
    "nltk.download('stopwords', quiet=True)\n",
    "\n",
    "def preprocess(corpus):\n",
    "    stop_words = set(stopwords.words('slovene'))\n",
    "    tokenizer = RegexpTokenizer(\"\\w+\")\n",
    "    lemmatizer = Lemmatizer(dictionary=DICTIONARY_SLOVENE)\n",
    "    \n",
    "    preprocessed = list()\n",
    "    for text in corpus:\n",
    "        text = text.translate(text.maketrans('', '', string.punctuation))\n",
    "        tokens = tokenizer.tokenize(text.lower())\n",
    "        tokens = [lemmatizer.lemmatize(token) for token in tokens if token not in stop_words \n",
    "                  and len(token) > 2 and not token.isnumeric()]\n",
    "        preprocessed.append(tokens)\n",
    "        \n",
    "    return preprocessed\n",
    "\n",
    "api = ServerAPI()\n",
    "metadata = api.get_metadata('predlogi-vladi', sample_size=100, sampling_strategy='latest')\n",
    "\n",
    "texts = api.get_texts(urls=metadata['text'])\n",
    "texts = [text for text in texts if len(text) > 50]\n",
    "\n",
    "tokens_list = preprocess(texts)"
   ]
  },
  {
   "cell_type": "code",
   "execution_count": 2,
   "metadata": {
    "colab": {
     "base_uri": "https://localhost:8080/"
    },
    "id": "MRy2jMkNSfPK",
    "outputId": "1bc04456-f650-4ffc-b4e3-ef50905d5523"
   },
   "outputs": [],
   "source": [
    "from utils.specific_words import prepare_data, find_corpus_words, find_document_words\n",
    "\n",
    "doc_embs, words, word_embs, word2doc, doc2word = prepare_data(tokens_list)\n",
    "doc_desc = find_corpus_words(doc_embs, words, word_embs)\n",
    "doc_desc2 = find_document_words(doc_embs, words, word_embs, word2doc, doc2word)"
   ]
  },
  {
   "cell_type": "code",
   "execution_count": 3,
   "metadata": {
    "id": "-BQewUSqXzAi"
   },
   "outputs": [],
   "source": [
    "from IPython.display import display, Markdown\n",
    "\n",
    "def display_document_and_specific_words(doc_ind, n_words, doc_desc, doc_desc2): \n",
    "    s = f\"## {metadata.iloc[doc_ind]['title']}\\n {texts[doc_ind]}\\n\"\n",
    "    s += f\"\\n### {n_words} najbolj specifičnih besed odkritih z besedami iz korpusa:\\n\"\n",
    "    for w in doc_desc[doc_ind][:n_words]:\n",
    "        s += f'- {w[0]}\\n'\n",
    "    s += f\"\\n### {n_words} najbolj specifičnih besed odkritih z besedami iz dokumenta:\\n\"\n",
    "    for w in doc_desc2[doc_ind][:n_words]:\n",
    "        s += f'- {w[0]}\\n'\n",
    "\n",
    "    display(Markdown(s))"
   ]
  },
  {
   "cell_type": "markdown",
   "metadata": {
    "id": "ZwJ0sr9BaOJN"
   },
   "source": [
    "Poglejmo eden dokument in 5 najbolj specifičnih besed, ki jih najdeta oba pristopa."
   ]
  },
  {
   "cell_type": "code",
   "execution_count": 4,
   "metadata": {
    "colab": {
     "base_uri": "https://localhost:8080/",
     "height": 378
    },
    "id": "NZUK3dHBX_BM",
    "outputId": "88a0ebc2-28bb-49ce-a166-8bd55947b6c2"
   },
   "outputs": [
    {
     "data": {
      "text/markdown": [
       "## Sprememba stopnje DDV za stanovanjske nepremičnine\n",
       " Trenutna obdavčitev je 9,5% za stanovanja do 120m2 in hiše do 250m2. Če površina presega cenzus, se na celotno ceno obračuna DDV po stopnji 22%. Posledično je stanovanje površine 121m2 več kot dvakrat bolj obdavčeno, kot stanovanje površine 119m2, kar je absurdno.\n",
       "Predlagam, da se obdavčitev spremeni tako, da je površina do 120m2 stanovanja oz. 250m2 hiše vedno obdavčena po 9,5%. Površina, ki presega cenzus, pa naj bo višje obdavčena.\n",
       "\n",
       "### 5 najbolj specifičnih besed odkritih z besedami iz korpusa:\n",
       "- površina\n",
       "- obdavčen\n",
       "- obdavčitev\n",
       "- stanovanjski\n",
       "- višina\n",
       "\n",
       "### 5 najbolj specifičnih besed odkritih z besedami iz dokumenta:\n",
       "- predlagati\n",
       "- obdavčitev\n",
       "- obdavčen\n",
       "- površina\n",
       "- stanovanje\n"
      ],
      "text/plain": [
       "<IPython.core.display.Markdown object>"
      ]
     },
     "metadata": {},
     "output_type": "display_data"
    }
   ],
   "source": [
    "display_document_and_specific_words(4, 5, doc_desc, doc_desc2)"
   ]
  },
  {
   "cell_type": "markdown",
   "metadata": {
    "id": "bbLRu5aXaEo5"
   },
   "source": [
    "Oba pristopa najdeta podobne besede, ki so specifične za dokument. Iz besed lahko sklepamo, o čem predlog vladi govori. Zdi se pa, da so tudi besede iz dokumenta zelo dobre ali pa celo boljše od besed iz korpusa. Poglejmo si razliko na drugem primeru."
   ]
  },
  {
   "cell_type": "code",
   "execution_count": 5,
   "metadata": {
    "colab": {
     "base_uri": "https://localhost:8080/",
     "height": 378
    },
    "id": "rmN3HMFCTqwl",
    "outputId": "1a0bfb2a-64e2-4e86-9a27-e8aa95af1168"
   },
   "outputs": [
    {
     "data": {
      "text/markdown": [
       "## Videvanja z partnerjem z tujine med epidemijo.\n",
       " Predlagam, da se kot izjema za prehajanje regije, občine ali državne meje, uvede tudi vzdrževanje stikov z partnerji iz tujine. Sam, kot tudi drugi smo namreč zaradi tega prizadeti, saj nas veliko živi ob meji s Hrvaško na primer, 15 min vožnje stran eden od drugega, a zaradi restriktivnih srečanje ni možno, čez Kolpo si pa lahko mahamo. Je bil 1. Val dovolj, da se nisem mogel videti s punco, katere tudi skoraj nisem prepoznal, po 2 mesecih razdvojenosti. Lp\n",
       "\n",
       "### 5 najbolj specifičnih besed odkritih z besedami iz korpusa:\n",
       "- meja\n",
       "- kolpa\n",
       "- regija\n",
       "- val\n",
       "- preža\n",
       "\n",
       "### 5 najbolj specifičnih besed odkritih z besedami iz dokumenta:\n",
       "- predlagati\n",
       "- lahek\n",
       "- velik\n",
       "- dovolj\n",
       "- sam\n"
      ],
      "text/plain": [
       "<IPython.core.display.Markdown object>"
      ]
     },
     "metadata": {},
     "output_type": "display_data"
    }
   ],
   "source": [
    "display_document_and_specific_words(13, 5, doc_desc, doc_desc2)"
   ]
  },
  {
   "cell_type": "markdown",
   "metadata": {
    "id": "K5kGLSEramz-"
   },
   "source": [
    "V tem primeru iz 5 najbolj specifičnih besed odkritih z besedami iz dokumenta težko rečemo, o čem predlog vladi govori."
   ]
  },
  {
   "cell_type": "markdown",
   "metadata": {
    "id": "oSeHmMW0Ei1-"
   },
   "source": [
    "## Dendrogram s specifičnimi besedami\n",
    "\n",
    "Sedaj, ko imamo postopek za računanje specifičnih besed, lahko te prikažemo v dendrogramu, ki prikazuje podobnosti med dokumenti. Ker bi bil dendrogram z vsemi dokumenti preobsežen, se odločimo za dokuemnte, ki smo jih že obravnavali v zvezku `03_02_distances_and_similarities`."
   ]
  },
  {
   "cell_type": "code",
   "execution_count": 6,
   "metadata": {
    "colab": {
     "base_uri": "https://localhost:8080/",
     "height": 347
    },
    "id": "KH6DE3FEEi1_",
    "outputId": "85db3d03-ed46-4fca-afa3-69f973336bf5"
   },
   "outputs": [
    {
     "data": {
      "image/png": "[encoded data removed]",
      "text/plain": [
       "<Figure size 576x396 with 1 Axes>"
      ]
     },
     "metadata": {},
     "output_type": "display_data"
    }
   ],
   "source": [
    "from scipy.cluster.hierarchy import ward, dendrogram\n",
    "from sklearn.metrics.pairwise import cosine_similarity\n",
    "from matplotlib import pyplot as plt\n",
    "\n",
    "idx = [7, 18, 20, 30, 1, 2, 3, 4]\n",
    "\n",
    "# dendrogram\n",
    "plt.style.use('seaborn')\n",
    "dist_mat = 1 - cosine_similarity(doc_embs[idx, :])\n",
    "linkage = ward(dist_mat)\n",
    "\n",
    "# specific words\n",
    "spec_words = [\", \".join(x for x, _ in doc_desc2[i][:5]) for i in idx]\n",
    "dendrogram(\n",
    "    linkage, color_threshold=0.7, \n",
    "    labels=spec_words,\n",
    "    orientation=\"left\"\n",
    ");"
   ]
  }
 ],
 "metadata": {
  "colab": {
   "collapsed_sections": [],
   "name": "02-05-specific-words-with-embeddings.ipynb",
   "provenance": []
  },
  "kernelspec": {
   "display_name": "Python 3",
   "language": "python",
   "name": "python3"
  },
  "language_info": {
   "codemirror_mode": {
    "name": "ipython",
    "version": 3
   },
   "file_extension": ".py",
   "mimetype": "text/x-python",
   "name": "python",
   "nbconvert_exporter": "python",
   "pygments_lexer": "ipython3",
   "version": "3.8.5"
  }
 },
 "nbformat": 4,
 "nbformat_minor": 1
}
