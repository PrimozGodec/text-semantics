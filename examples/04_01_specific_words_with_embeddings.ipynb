{
 "cells": [
  {
   "cell_type": "markdown",
   "metadata": {
    "id": "WGwuELZZUfED"
   },
   "source": [
    "# Iskanje besed specifičnih za dokumente z uporabo vložitev fastText"
   ]
  },
  {
   "cell_type": "markdown",
   "metadata": {
    "id": "pmEW2fr2Up_2"
   },
   "source": [
    "Kot je že prikazano v enem od prejšnjih primerov, je z uporabo vložitev fastText zelo enostavno računati razdalje in podobnosti med dokumenti in besedami. Takrat smo pokazali, kako za eden dokument lahko določimo specifične besede z iskanjem tistih, ki so najbolj podobne dokumentu. Vendar pa je lahko beseda zelo podobna tudi ostalim dokumentom in takrat bi rekli, da taka beseda ne bo specifična za kateri koli dokument. V takem primeru lahko pri računanju specifične besede za določeni dokument upoštevamo tudi njeno podobnost z drugimi dokumenti. Tako želimo dobiti tiste besede, ki so čim bližje ciljnemu dokumentu in čim bolj daleč stran od vseh ostalih."
   ]
  },
  {
   "cell_type": "markdown",
   "metadata": {
    "id": "FeLVMjMLWVhR"
   },
   "source": [
    "Iz seznama predlogov vladi si izberimo zadnjih 100 dokumentov, jih predobledajmo na isti način kot v prejšnjih primerih in za vsak dokument izračunajmo najbolj specifične besede. Uporabili bomo dva pristopa z eno ključno razliko - pri prvem pristopu je kandidat za specifično besedo posameznega dokumenta vsaka beseda, ki se nahaja v korpusu, pri drugem so pa kandidati le besede, ki se nahajajo v ciljenm dokumentu. Pričakujemo, da bodo pri prvem pristopu boljši rezultati, vendar je tudi časovna zahtevnost računanja večja."
   ]
  },
  {
   "cell_type": "code",
   "execution_count": 1,
   "metadata": {
    "id": "E7oBUANqIGzm"
   },
   "outputs": [],
   "source": [
    "from textsemantics.server_api import ServerAPI\n",
    "import string\n",
    "import nltk\n",
    "from nltk.tokenize import RegexpTokenizer\n",
    "from nltk.corpus import stopwords\n",
    "from lemmagen.lemmatizer import Lemmatizer\n",
    "from lemmagen import DICTIONARY_SLOVENE\n",
    "from flair.data import Sentence\n",
    "from flair.embeddings import WordEmbeddings, DocumentPoolEmbeddings\n",
    "from sklearn.feature_extraction.text import TfidfVectorizer\n",
    "import numpy as np\n",
    "\n",
    "nltk.download('stopwords', quiet=True)\n",
    "\n",
    "def preprocess(corpus):\n",
    "    stop_words = set(stopwords.words('slovene'))\n",
    "    tokenizer = RegexpTokenizer(\"\\w+\")\n",
    "    lemmatizer = Lemmatizer(dictionary=DICTIONARY_SLOVENE)\n",
    "    \n",
    "    preprocessed = list()\n",
    "    for text in corpus:\n",
    "        text = text.translate(text.maketrans('', '', string.punctuation))\n",
    "        tokens = tokenizer.tokenize(text.lower())\n",
    "        tokens = [lemmatizer.lemmatize(token) for token in tokens if token not in stop_words \n",
    "                  and len(token) > 2 and not token.isnumeric()]\n",
    "        preprocessed.append(tokens)\n",
    "        \n",
    "    return preprocessed\n",
    "\n",
    "api = ServerAPI()\n",
    "datasets = api.list_datasets()\n",
    "metadata = api.get_metadata(datasets[2][0], sample_size=100, sampling_strategy='latest')\n",
    "\n",
    "texts = api.get_texts(urls=metadata['text'])\n",
    "texts = [text for text in texts if len(text) > 50]\n",
    "\n",
    "tokens_list = preprocess(texts)"
   ]
  },
  {
   "cell_type": "code",
   "execution_count": 2,
   "metadata": {
    "id": "dLcquNeRIl0a"
   },
   "outputs": [],
   "source": [
    "import numpy as np\n",
    "\n",
    "def prepare_data(tokens_list):\n",
    "    embedder = WordEmbeddings('sl')\n",
    "    words = list()\n",
    "    word_embs = list()\n",
    "    doc_embs = list()\n",
    "    word2doc = dict()\n",
    "    doc2word = list()\n",
    "\n",
    "    for i, tokens in enumerate(tokens_list):\n",
    "        sent = Sentence(\" \".join(tokens))\n",
    "        embedder.embed(sent)\n",
    "        doc_emb = np.zeros(embedder.embedding_length)\n",
    "        doc2word.append(set())\n",
    "        for token in sent.tokens:\n",
    "            if token.text not in word2doc:\n",
    "                word2doc[token.text] = set()\n",
    "            word2doc[token.text].add(i)\n",
    "            doc2word[i].add(token.text)\n",
    "\n",
    "            emb = token.embedding.cpu().detach().numpy()\n",
    "            doc_emb += emb / len(tokens)\n",
    "            if token.text not in words:\n",
    "                words.append(token.text)\n",
    "                word_embs.append(emb)\n",
    "        doc_embs.append(doc_emb)\n",
    "\n",
    "    doc_embs = np.array(doc_embs)\n",
    "    word_embs = np.array(word_embs)\n",
    "\n",
    "    return doc_embs, words, word_embs, word2doc, doc2word\n",
    "\n",
    "\n",
    "def cos_sim(x, y):\n",
    "    return x.dot(y) / np.linalg.norm(x) / np.linalg.norm(y)\n",
    "\n",
    "\n",
    "def find_specific_words(doc_embs, words, word_embs):\n",
    "\n",
    "    # compute distances\n",
    "    distances = np.zeros((word_embs.shape[0], doc_embs.shape[0]))\n",
    "    for i in range(word_embs.shape[0]):\n",
    "        for j in range(doc_embs.shape[0]):\n",
    "            distances[i, j] = 1 - cos_sim(word_embs[i, :], doc_embs[j, :])\n",
    "    \n",
    "    # compute scores\n",
    "    doc_desc = dict()\n",
    "    for j in range(doc_embs.shape[0]):\n",
    "        scores = np.zeros(word_embs.shape[0])\n",
    "        for i in range(word_embs.shape[0]):\n",
    "            mask = np.full(doc_embs.shape[0], fill_value=True)\n",
    "            mask[j] = False\n",
    "            scores[i] = distances[i, j] - np.mean(distances[i, mask])\n",
    "        \n",
    "        idx = np.argsort(scores)\n",
    "        doc_desc[j] = [words[w] for w in idx]\n",
    "\n",
    "    return doc_desc\n",
    "\n",
    "\n",
    "def find_specific_words2(doc_embs, words, word_embs, word2doc, doc2word):\n",
    "\n",
    "    word2emb = dict(zip(words, word_embs))\n",
    "    word2ind = dict(zip(words, range(len(words))))\n",
    "    distances = dict()\n",
    "    for i in range(word_embs.shape[0]):\n",
    "        word = words[i]\n",
    "        for j in word2doc[word]:\n",
    "            distances[i, j] = 1 - cos_sim(word_embs[i, :], doc_embs[j, :])\n",
    "\n",
    "\n",
    "    doc_desc = list()\n",
    "    for j in range(doc_embs.shape[0]):\n",
    "        scores = np.zeros(len(doc2word[j]))\n",
    "        ind2word = dict(zip(list(range(len(doc2word[j]))), list(doc2word[j])))\n",
    "        for k, word in enumerate(doc2word[j]):\n",
    "            # current document and a single word\n",
    "            i = word2ind[word]\n",
    "            sum_of_distances = sum([distances[i, x] for x in word2doc[word]])\n",
    "            mean_distance = (sum_of_distances - distances[i, j]) / (doc_embs.shape[0] - 1)\n",
    "            scores[k] = distances[i, j] - mean_distance\n",
    "        idx = np.argsort(scores)\n",
    "        doc_desc.append([ind2word[x] for x in idx])\n",
    "\n",
    "    return doc_desc \n"
   ]
  },
  {
   "cell_type": "code",
   "execution_count": 3,
   "metadata": {
    "colab": {
     "base_uri": "https://localhost:8080/"
    },
    "id": "MRy2jMkNSfPK",
    "outputId": "ded2df0a-a7f1-4413-9caa-9f28ffaebe3c"
   },
   "outputs": [
    {
     "name": "stderr",
     "output_type": "stream",
     "text": [
      "<ipython-input-2-16b88670d902>:36: RuntimeWarning: invalid value encountered in double_scalars\n",
      "  return x.dot(y) / np.linalg.norm(x) / np.linalg.norm(y)\n"
     ]
    }
   ],
   "source": [
    "doc_embs, words, word_embs, word2doc, doc2word = prepare_data(tokens_list)\n",
    "doc_desc = find_specific_words(doc_embs, words, word_embs)\n",
    "doc_desc2 = find_specific_words2(doc_embs, words, word_embs, word2doc, doc2word)"
   ]
  },
  {
   "cell_type": "code",
   "execution_count": 4,
   "metadata": {
    "id": "-BQewUSqXzAi"
   },
   "outputs": [],
   "source": [
    "from IPython.display import display, Markdown\n",
    "\n",
    "def display_document_and_specific_words(doc_ind, n_words, doc_desc, doc_desc2): \n",
    "    s = f\"## {metadata.iloc[doc_ind]['title']}\\n {texts[doc_ind]}\\n\"\n",
    "    s += f\"\\n### {n_words} najbolj specifičnih besed odkritih s prvo metodo:\\n\"\n",
    "    for w in doc_desc[doc_ind][:n_words]:\n",
    "        s += f'- {w}\\n'\n",
    "    s += f\"\\n### {n_words} najbolj specifičnih besed odkritih z drugo metodo:\\n\"\n",
    "    for w in doc_desc2[doc_ind][:n_words]:\n",
    "        s += f'- {w}\\n'\n",
    "\n",
    "    display(Markdown(s))"
   ]
  },
  {
   "cell_type": "markdown",
   "metadata": {
    "id": "ZwJ0sr9BaOJN"
   },
   "source": [
    "Poglejmo eden dokument in 5 najbolj specifičnih besed, ki jih najdeta oba pristopa."
   ]
  },
  {
   "cell_type": "code",
   "execution_count": 5,
   "metadata": {
    "colab": {
     "base_uri": "https://localhost:8080/",
     "height": 378
    },
    "id": "NZUK3dHBX_BM",
    "outputId": "9504042e-8fd1-4f5c-cf93-d46e20431699"
   },
   "outputs": [
    {
     "data": {
      "text/markdown": [
       "## Sprememba stopnje DDV za stanovanjske nepremičnine\n",
       " Trenutna obdavčitev je 9,5% za stanovanja do 120m2 in hiše do 250m2. Če površina presega cenzus, se na celotno ceno obračuna DDV po stopnji 22%. Posledično je stanovanje površine 121m2 več kot dvakrat bolj obdavčeno, kot stanovanje površine 119m2, kar je absurdno.\n",
       "Predlagam, da se obdavčitev spremeni tako, da je površina do 120m2 stanovanja oz. 250m2 hiše vedno obdavčena po 9,5%. Površina, ki presega cenzus, pa naj bo višje obdavčena.\n",
       "\n",
       "### 5 najbolj specifičnih besed odkritih s prvo metodo:\n",
       "- površina\n",
       "- obdavčen\n",
       "- obdavčitev\n",
       "- stanovanjski\n",
       "- višina\n",
       "\n",
       "### 5 najbolj specifičnih besed odkritih z drugo metodo:\n",
       "- predlagati\n",
       "- obdavčitev\n",
       "- obdavčen\n",
       "- površina\n",
       "- stanovanje\n"
      ],
      "text/plain": [
       "<IPython.core.display.Markdown object>"
      ]
     },
     "metadata": {},
     "output_type": "display_data"
    }
   ],
   "source": [
    "display_document_and_specific_words(4, 5, doc_desc, doc_desc2)"
   ]
  },
  {
   "cell_type": "markdown",
   "metadata": {
    "id": "bbLRu5aXaEo5"
   },
   "source": [
    "Oba pristopa najdeta podobne besede, ki so specifične za dokument. Iz besed lahko sklepamo, o čem predlog vladi govori. Zdi se pa, da je tudi drugi pristop zelo dober ali pa celo boljši od prvega. Poglejmo si razliko na drugem primeru."
   ]
  },
  {
   "cell_type": "code",
   "execution_count": 6,
   "metadata": {
    "colab": {
     "base_uri": "https://localhost:8080/",
     "height": 395
    },
    "id": "rmN3HMFCTqwl",
    "outputId": "f68e61d1-d1cf-4409-8bc7-cf28fb21537c"
   },
   "outputs": [
    {
     "data": {
      "text/markdown": [
       "## Videvanja z partnerjem z tujine med epidemijo.\n",
       " Predlagam, da se kot izjema za prehajanje regije, občine ali državne meje, uvede tudi vzdrževanje stikov z partnerji iz tujine. Sam, kot tudi drugi smo namreč zaradi tega prizadeti, saj nas veliko živi ob meji s Hrvaško na primer, 15 min vožnje stran eden od drugega, a zaradi restriktivnih srečanje ni možno, čez Kolpo si pa lahko mahamo. Je bil 1. Val dovolj, da se nisem mogel videti s punco, katere tudi skoraj nisem prepoznal, po 2 mesecih razdvojenosti. Lp\n",
       "\n",
       "### 5 najbolj specifičnih besed odkritih s prvo metodo:\n",
       "- meja\n",
       "- kolpa\n",
       "- regija\n",
       "- val\n",
       "- preža\n",
       "\n",
       "### 5 najbolj specifičnih besed odkritih z drugo metodo:\n",
       "- predlagati\n",
       "- lahek\n",
       "- velik\n",
       "- dovolj\n",
       "- sam\n"
      ],
      "text/plain": [
       "<IPython.core.display.Markdown object>"
      ]
     },
     "metadata": {},
     "output_type": "display_data"
    }
   ],
   "source": [
    "display_document_and_specific_words(13, 5, doc_desc, doc_desc2)"
   ]
  },
  {
   "cell_type": "markdown",
   "metadata": {
    "id": "K5kGLSEramz-"
   },
   "source": [
    "V tem primeru iz 5 najbolj specifičnih besed odkritih z drugim pristopom težko rečemo, o čem predlog vladi govori. Beseda kapital se nahaja šele na 15. mestu."
   ]
  },
  {
   "cell_type": "markdown",
   "metadata": {},
   "source": [
    "## Dendrogram z specifičnimi besedami\n",
    "\n",
    "Sedaj, ko imamo postopek za računanje specifičnih besed, lahko te prikažemo v dendrogramu, ki prikazuje podobnosti med dokumenti. Ker bi bil dendrogram z vsemi dokumenti preobsežen, se odločimo za dokuemnte, ki smo jih že obravnavali v zvezku `03_02_distances_and_similarities`."
   ]
  },
  {
   "cell_type": "code",
   "execution_count": 8,
   "metadata": {},
   "outputs": [
    {
     "data": {
      "image/png": "[encoded data removed]",
      "text/plain": [
       "<Figure size 576x396 with 1 Axes>"
      ]
     },
     "metadata": {},
     "output_type": "display_data"
    }
   ],
   "source": [
    "from scipy.cluster.hierarchy import ward, dendrogram\n",
    "from sklearn.metrics.pairwise import cosine_similarity\n",
    "from matplotlib import pyplot as plt\n",
    "\n",
    "idx = [7, 18, 20, 30, 1, 2, 3, 4]\n",
    "\n",
    "# dendrogram\n",
    "plt.style.use('seaborn')\n",
    "dist_mat = 1 - cosine_similarity(doc_embs[idx, :])\n",
    "linkage = ward(dist_mat)\n",
    "\n",
    "# specific words\n",
    "spec_words = [\",\".join(doc_desc2[i][:5]) for i in idx]\n",
    "dendrogram(\n",
    "    linkage, color_threshold=0.7, \n",
    "    labels=spec_words,\n",
    "    orientation=\"left\"\n",
    ");"
   ]
  }
 ],
 "metadata": {
  "colab": {
   "collapsed_sections": [],
   "name": "02-05-specific-words-with-embeddings.ipynb",
   "provenance": []
  },
  "kernelspec": {
   "display_name": "Python 3",
   "language": "python",
   "name": "python3"
  },
  "language_info": {
   "codemirror_mode": {
    "name": "ipython",
    "version": 3
   },
   "file_extension": ".py",
   "mimetype": "text/x-python",
   "name": "python",
   "nbconvert_exporter": "python",
   "pygments_lexer": "ipython3",
   "version": "3.8.5"
  }
 },
 "nbformat": 4,
 "nbformat_minor": 1
}
