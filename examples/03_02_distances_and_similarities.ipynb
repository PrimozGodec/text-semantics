{
  "nbformat": 4,
  "nbformat_minor": 0,
  "metadata": {
    "colab": {
      "name": "02-03-distances-and-similarities.ipynb",
      "provenance": [],
      "collapsed_sections": []
    },
    "kernelspec": {
      "name": "python3",
      "display_name": "Python 3"
    }
  },
  "cells": [
    {
      "cell_type": "markdown",
      "metadata": {
        "id": "YHez5lMrQIGt"
      },
      "source": [
        "# Uporaba razdalj in podobnosti"
      ]
    },
    {
      "cell_type": "markdown",
      "metadata": {
        "id": "7cg5d96ZQOIS"
      },
      "source": [
        "V tem zvezku predstavimo, kako med prej dobljenimi vložitvami dokumentov računamo in uporabljamo razdalje in podobnosti."
      ]
    },
    {
      "cell_type": "markdown",
      "metadata": {
        "id": "-OypjYABQ74w"
      },
      "source": [
        "Za začetek si spet preko API-ja pridobimo besedila zadnjih 100 predlogov vladi, ki vsebujejo vsaj 50 znakov ter iz datotek preberemo fastText in tf-idf vektorje iz prejšnjega primera."
      ]
    },
    {
      "cell_type": "code",
      "metadata": {
        "id": "DcT0d9LkRG9l"
      },
      "source": [
        "from textsemantics.server_api import ServerAPI\n",
        "import numpy as np\n",
        "from scipy.sparse import load_npz\n",
        "\n",
        "api = ServerAPI()\n",
        "datasets = api.list_datasets()\n",
        "metadata = api.get_metadata(datasets[2][0], sample_size=100, sampling_strategy='latest')\n",
        "\n",
        "texts = api.get_texts(urls=metadata['text'])\n",
        "titles = [metadata.iloc[i].loc['title'] for i in range(len(texts))\n",
        "          if len(texts[i]) > 50]\n",
        "texts = [text for text in texts if len(text) > 50]\n",
        "\n",
        "ft = np.load('data/ft.npy')\n",
        "tfidf = load_npz('data/tfidf.npz').toarray()\n",
        "word_embs = np.load('data/words.npy')"
      ],
      "execution_count": 1,
      "outputs": []
    },
    {
      "cell_type": "markdown",
      "metadata": {
        "id": "QMdk-zNNKuL0"
      },
      "source": [
        "## Računanje razdalj med dokumenti"
      ]
    },
    {
      "cell_type": "markdown",
      "metadata": {
        "id": "99iubJm_PByM"
      },
      "source": [
        "Razdaljo med dvema dokumentoma izračunamo kot razdaljo med njihovima vektorskima predstavitvama. Ker imamo mehanizem za računanje razdalj, lahko za želeni dokument poiščemo k dokumentov, ki so mu najbližji v vektorskem prostoru. Poiščimo 3 najbližje sosede enega dokumenta v našem seznamu."
      ]
    },
    {
      "cell_type": "code",
      "metadata": {
        "id": "E-3uq2MBPx-I"
      },
      "source": [
        "def cos_sim(x, y):\n",
        "    return np.dot(x, y) / (np.linalg.norm(x) * np.linalg.norm(y))\n",
        "\n",
        "def knn(embs, ind=0, k=3):\n",
        "    dists = [1 - cos_sim(embs[i], embs[ind]) if i != ind else 1\n",
        "             for i in range(embs.shape[0])]\n",
        "    inds = np.argsort(dists)\n",
        "    return inds[:min(k, embs.shape[0])]"
      ],
      "execution_count": 2,
      "outputs": []
    },
    {
      "cell_type": "code",
      "metadata": {
        "colab": {
          "base_uri": "https://localhost:8080/"
        },
        "id": "2wAHhT-CRKRu",
        "outputId": "d04361bd-a287-469d-c013-f75cad3f96de"
      },
      "source": [
        "ft_nn = knn(ft, ind=20, k=3)\n",
        "tfidf_nn = knn(tfidf, ind=20, k=3)\n",
        "\n",
        "print(f'ID treh najbližjih sosedov za fastText {list(ft_nn)}')\n",
        "print(f'ID treh najbližjih sosedov za vrečo besed {list(tfidf_nn)}')"
      ],
      "execution_count": 3,
      "outputs": [
        {
          "output_type": "stream",
          "text": [
            "ID treh najbližjih sosedov za fastText [7, 18, 30]\n",
            "ID treh najbližjih sosedov za vrečo besed [30, 18, 7]\n"
          ],
          "name": "stdout"
        }
      ]
    },
    {
      "cell_type": "markdown",
      "metadata": {
        "id": "Eqh8EK_2jdT0"
      },
      "source": [
        "Izkaže se, da z uporabo obeh vložitev odkrijemo iste 3 najbližje sosede. Poglejmo besedila prvega dokumenta in njegovih najbližjih sosedov.\n"
      ]
    },
    {
      "cell_type": "code",
      "metadata": {
        "colab": {
          "base_uri": "https://localhost:8080/",
          "height": 459
        },
        "id": "dhsXFdxxUbcx",
        "outputId": "5d4536fa-f799-48cb-8567-123c267de6d5"
      },
      "source": [
        "from IPython.display import Markdown, display\n",
        "display(Markdown(\n",
        "    f\"## {titles[20]}\\n{texts[20]}\\n\\n ## {titles[ft_nn[0]]}\\n{texts[ft_nn[0]]}\\n\\n\" +\n",
        "    f\"## {titles[ft_nn[1]]}\\n{texts[ft_nn[1]]}\\n\\n ## {titles[ft_nn[2]]}\\n{texts[ft_nn[2]]}\\n\\n\"))\n"
      ],
      "execution_count": 4,
      "outputs": [
        {
          "output_type": "display_data",
          "data": {
            "text/markdown": "## Ponovno odprtje srednjih šol\nNekateri srednješolci imamo počasi že dovolj šole na daljavo, ker nam nič ne koristi. Še posebej zdaj ne, ker nas čaka matura in mislim, da je čas za ponovno odprtje srednjih šol. Če ne za vse pa samo za tiste, ki imamo maturo in zaključni izpit.\n\n ## Podaljšanje šolanja na daljavo od 5. razreda naprej\nPredlagam, da se šola na daljavo podaljša do konca prvega poletja v onovnih in srednjih šolah oz. prvega semestra na fakultetah. Šolo na daljavo predlagam od 5. razreda osnovne šole naprej, razen za učence s posebnimi potrebami in učno pomočjo. Najbolj se covid-19 da zajeziti s študiranjem na daljavo na fakultetah saj tam si gibljejo študenje iz različnih krajev, nenormalna gužva je na javnih prevozih in so tudi najbolj samostojni pri učenju na daljavo.\n\n## Srednje šole podaljšanja počitnic ne želijo\nPodaljšanja počitnic si medtem ne želijo na srednjih šolah, je sporočila predsednica Društva ravnateljev srednjih šol Nives Počkar, ki poudarja, da so na pouk na daljavo dobro pripravljeni, nadomeščanje pa bi bilo prenaporno.\nTo je odločitev Društva ravnateljev srednjih šol. V kolikor bi upoštevali poglede dijakov, bi bila odločitev drugačna. Njim so šole prvenstveno namenjene. Se je kdo vprašal ali ni šolanje na daljavo za dijake prenaporno ?\nTako Nemčija in Francija zagovarjata stališče, da bodo šole zapirali, ko res ne bo več nobenih drugih možnosti.\nPrav tako so naredili analizo posledic zapiranja šol v prvem valu korona krize. Rezultati so zelo zaskrbljujoči. V Sloveniji pa seveda te analize ni. Posledično so tudi ukrepi temu primerni.\n \n\n ## Ukinitev mature\nGlede na stanje okoli virusa, predlagam, da bi zaključni izpit oziroma maturo začasno ali trajno ukinili. Že lanski zaključni letniki so na maturi imeli kar precej težav, mislim, da to leto ne bo nič drugače - še slabše, razlog tega pa je, da se pri pouku na daljavo zelo težko kaj naučiš, učitelji nimajo kontrole nad dijakom, nekatere predmete je težje razlagat preko videoklica kot pa v živo, itd.\nTo je moj predlog, vem, da se marsikdo ne bo strinjal s tem, vendar pa do leta 1994/1995 ni bilo mature v Sloveniji. Takrat so so začeli uveljavljati (popravite me če se motim).\n\n",
            "text/plain": [
              "<IPython.core.display.Markdown object>"
            ]
          },
          "metadata": {
            "tags": []
          }
        }
      ]
    },
    {
      "cell_type": "markdown",
      "metadata": {
        "id": "Ejk3riiTjrb9"
      },
      "source": [
        "Vsi štirje predlogi se nanašajo na šolanje na daljavo. Na takšen enostaven način lahko za poljuben predlog vladi poiščemo obstoječe predloge, ki so mu podobni."
      ]
    },
    {
      "cell_type": "markdown",
      "metadata": {
        "id": "UzPXgqQ3be3O"
      },
      "source": [
        "Razdalje lahko dodatno poudarimo s hierarhičnim razvrščanjem. Izberimo si zgornje 4 preloge vladi in prve 4 predloge na seznamu ter narišimo dendrogram. "
      ]
    },
    {
      "cell_type": "code",
      "metadata": {
        "colab": {
          "base_uri": "https://localhost:8080/",
          "height": 347
        },
        "id": "1nof44-DW_zs",
        "outputId": "f4e344c1-1111-4661-ec8f-179f6536ed30"
      },
      "source": [
        "from scipy.cluster.hierarchy import ward, dendrogram\n",
        "from sklearn.metrics.pairwise import cosine_similarity\n",
        "from matplotlib import pyplot as plt\n",
        "\n",
        "plt.style.use('seaborn')\n",
        "\n",
        "idx = list(ft_nn) + [20, 1, 2, 3, 4]\n",
        "dist_mat = 1 - cosine_similarity(ft[idx, :])\n",
        "linkage = ward(dist_mat)\n",
        "_ = dendrogram(linkage, color_threshold=0.7, orientation='right', \n",
        "               labels=[titles[i] for i in [7, 18, 30, 20, 1, 2, 3, 4]])"
      ],
      "execution_count": 5,
      "outputs": [
        {
          "output_type": "display_data",
          "data": {
            "image/png": "[encoded data removed]",
            "text/plain": [
              "<Figure size 576x396 with 1 Axes>"
            ]
          },
          "metadata": {
            "tags": []
          }
        }
      ]
    },
    {
      "cell_type": "markdown",
      "metadata": {
        "id": "lzDYUVPwb7A2"
      },
      "source": [
        "Vidimo, da predlogi, ki govorijo o šolanju tvorijo eno skupino in da so med sabo bolj podobni kot dokumenti, ki tvorijo drugo skupino."
      ]
    },
    {
      "cell_type": "markdown",
      "metadata": {
        "id": "9AKAx7L0ksqb"
      },
      "source": [
        "## Podobnost med dokumentom in besedo"
      ]
    },
    {
      "cell_type": "markdown",
      "metadata": {
        "id": "BNy4nCO6nm5e"
      },
      "source": [
        "Predpostavimo, da imamo seznam besed, za katere želimo vedeti, ali dobro opisujejo določeni dokument. To lahko izvemo na način podoben zgoraj opisanemu. Ker smo z modelom fastText dobili vložitve besed, nato pa le te združili v vložitve dokumentov, so tako besede kot dokumenti vektorji v istem vektorskem prostoru. Zato lahko računamo razdalje (podobnosti) med besedami in dokumenti. Vemo, da se zgornji predlog vladi nanaša na šolanje na daljavo. Izračunajmo kosinusno podobnost (definirana je kot 1 - razdalja) med tem predlogom in besedami šola, počitnice, semafor in tehnologija."
      ]
    },
    {
      "cell_type": "code",
      "metadata": {
        "colab": {
          "base_uri": "https://localhost:8080/"
        },
        "id": "oBvisiZLbMwu",
        "outputId": "9f6cbf1d-a79e-4c68-ee04-c7613a5fd969"
      },
      "source": [
        "word_embs = np.load('data/words.npy')\n",
        "for i, word in enumerate(['šola', 'počitnice', 'semafor', 'tehnologija']):\n",
        "    print(f\"Podobnost med dokumentom in besedo {word}: \" + \n",
        "          f\"{cos_sim(ft[0], word_embs[i, :]):.2f}\")"
      ],
      "execution_count": 6,
      "outputs": [
        {
          "output_type": "stream",
          "text": [
            "Podobnost med dokumentom in besedo šola: 0.36\n",
            "Podobnost med dokumentom in besedo počitnice: 0.41\n",
            "Podobnost med dokumentom in besedo semafor: 0.31\n",
            "Podobnost med dokumentom in besedo tehnologija: 0.35\n"
          ],
          "name": "stdout"
        }
      ]
    },
    {
      "cell_type": "markdown",
      "metadata": {
        "id": "X2I9tZINrA1R"
      },
      "source": [
        "Kot vidimo, sta besedi šola in počitnice bolj podobni dokumentu kot besedi semafor in tehnologija."
      ]
    }
  ]
}