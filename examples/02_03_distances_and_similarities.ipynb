{
  "nbformat": 4,
  "nbformat_minor": 0,
  "metadata": {
    "colab": {
      "name": "02-03-distances-and-similarities.ipynb",
      "provenance": [],
      "collapsed_sections": []
    },
    "kernelspec": {
      "name": "python3",
      "display_name": "Python 3"
    }
  },
  "cells": [
    {
      "cell_type": "markdown",
      "metadata": {
        "id": "YHez5lMrQIGt"
      },
      "source": [
        "# Uporaba razdalj in podobnosti"
      ]
    },
    {
      "cell_type": "markdown",
      "metadata": {
        "id": "7cg5d96ZQOIS"
      },
      "source": [
        "V tem zvezku predstavimo, kako med prej dobljenimi vložitvami dokumentov računamo in uporabljamo razdalje in podobnosti."
      ]
    },
    {
      "cell_type": "markdown",
      "metadata": {
        "id": "-OypjYABQ74w"
      },
      "source": [
        "Za začetek si spet preko API-ja pridobimo besedila vseh predlogov vladi, ki vsebujejo vsaj 50 znakov ter iz datotek preberemo fastText in tf-idf vektorje iz prejšnjega primera."
      ]
    },
    {
      "cell_type": "code",
      "metadata": {
        "id": "DcT0d9LkRG9l"
      },
      "source": [
        "from textsemantics.server_api import ServerAPI\n",
        "import numpy as np\n",
        "from scipy.sparse import load_npz\n",
        "\n",
        "api = ServerAPI()\n",
        "datasets = api.list_datasets()\n",
        "metadata = api.get_metadata(datasets[2][0])\n",
        "\n",
        "texts = api.get_texts(urls=metadata['text'])\n",
        "texts = [text for text in texts if len(text) > 50]\n",
        "\n",
        "ft = np.load('data/ft.npy')\n",
        "tfidf = load_npz('data/tfidf.npz').toarray()\n",
        "word_embs = np.load('data/words.npy')"
      ],
      "execution_count": 1,
      "outputs": []
    },
    {
      "cell_type": "markdown",
      "metadata": {
        "id": "QMdk-zNNKuL0"
      },
      "source": [
        "## Računanje razdalj med dokumenti"
      ]
    },
    {
      "cell_type": "markdown",
      "metadata": {
        "id": "99iubJm_PByM"
      },
      "source": [
        "Razdaljo med dvema dokumentoma izračunamo kot razdaljo med njihovima vektorskima predstavitvama. Ker imamo mehanizem za računanje razdalj, lahko za želeni dokument poiščemo k dokumentov, ki so mu najbližji v vektorskem prostoru. Poiščimo 3 najbližje sosede prvega dokumenta v našem seznamu."
      ]
    },
    {
      "cell_type": "code",
      "metadata": {
        "id": "E-3uq2MBPx-I"
      },
      "source": [
        "def cos_sim(x, y):\n",
        "    return np.dot(x, y) / (np.linalg.norm(x) * np.linalg.norm(y))\n",
        "\n",
        "def knn(embs, ind=0, k=3):\n",
        "    dists = [1 - cos_sim(embs[i], embs[ind]) if i != ind else 1\n",
        "             for i in range(embs.shape[0])]\n",
        "    inds = np.argsort(dists)\n",
        "    return inds[:min(k, embs.shape[0])]"
      ],
      "execution_count": 2,
      "outputs": []
    },
    {
      "cell_type": "code",
      "metadata": {
        "colab": {
          "base_uri": "https://localhost:8080/"
        },
        "id": "2wAHhT-CRKRu",
        "outputId": "c748cd78-ae8b-457b-e954-0f8250aea089"
      },
      "source": [
        "ft_nn = knn(ft, ind=0, k=3)\n",
        "tfidf_nn = knn(tfidf, ind=0, k=3)\n",
        "\n",
        "print(f'ID treh najbližjih sosedov za fastText {list(ft_nn)}')\n",
        "print(f'ID treh najbližjih sosedov za fastText {list(tfidf_nn)}')"
      ],
      "execution_count": 3,
      "outputs": [
        {
          "output_type": "stream",
          "text": [
            "/usr/local/lib/python3.6/dist-packages/ipykernel_launcher.py:2: RuntimeWarning: invalid value encountered in float_scalars\n",
            "  \n"
          ],
          "name": "stderr"
        },
        {
          "output_type": "stream",
          "text": [
            "ID treh najbližjih sosedov za fastText [2466, 7003, 8150]\n",
            "ID treh najbližjih sosedov za fastText [2466, 8150, 7003]\n"
          ],
          "name": "stdout"
        }
      ]
    },
    {
      "cell_type": "markdown",
      "metadata": {
        "id": "Eqh8EK_2jdT0"
      },
      "source": [
        "Izkaže se, da z uporabo obeh vložitev odkrijemo iste 3 najbližje sosede. Poglejmo besedila prvega dokumenta in njegovih najbližjih sosedov."
      ]
    },
    {
      "cell_type": "code",
      "metadata": {
        "colab": {
          "base_uri": "https://localhost:8080/",
          "height": 608
        },
        "id": "dhsXFdxxUbcx",
        "outputId": "777b3077-ff71-494d-dc6e-6f9f116ab14b"
      },
      "source": [
        "from IPython.display import Markdown, display\n",
        "display(Markdown(\n",
        "    f\"## Originalni dokument\\n{texts[0]}\\n\\n ## 1. dokument\\n{texts[ft_nn[0]]}\\n\\n\" +\n",
        "    f\"## 2. dokument\\n{texts[ft_nn[1]]}\\n\\n ## 3. dokument\\n{texts[ft_nn[2]]}\\n\\n\"))\n"
      ],
      "execution_count": 4,
      "outputs": [
        {
          "output_type": "display_data",
          "data": {
            "text/markdown": "## Originalni dokument\n \n\nPredlagam, da se na slovenskih semaforjih znova uvede utripajoča zelena luč, kot smo jo že imeli pred leti.  Prednost utripajoče zelene luči je v tem, da voznike predhodno opozori, da se bo prižgala rumena in se morajo na semaforju ustaviti. Mislim, da bodo s tem slovenske ceste varnejše ter promet bolj tekoč.\n \nAdd1.\nPredlagam tudi, da se sprejme načrt uvedbe odštevalnikov na semaforjih, po katerem bi do konca leta 2012 20% vseh semaforjev v državi imelo odštevalnike (tako za zeleno kot za rdečo luč).\n\n ## 1. dokument\nPredlagam, da se odštevanje časa prižgane zelene luči na semaforju ukine.\n \nDa so odštevalniki zelene luči  namreč podobno nevarni kot utripajoča zelena luč so ugotovili v Tajvanu (že leta 2008), kjer so na podlagi raziskave tudi uvedli spremembo zakona, ki ureja prometno signalizacijo.\nhttp://freakonomics.blogs.nytimes.com/2008/03/14/taiwans-solution-to-t...\nhttp://www.taipeitimes.com/News/taiwan/archives/2008/03/11/2003405001\nhttp://www.traffictechnologytoday.com/news.php?NewsID=4104\n \nOdštevalniki zelene luči so po učinku enaki utripajoči zeleni luči, o tej pa je bilo na predlagam.vladi.si že govora. Takrat je pristojni organ odgovoril:\n \nIn nadalje:\n \n \n \nKer se torej vozniška praksa oblikuje po več letih in ker imajo odštevalniki ob prižgani zeleni luči na semaforju, podobno kot utripajoča zelena luč, na varnost negativen učinek, je v interesu vseh, da se odštevalnike ob zeleni luči tudi zakonsko prepove, preden dosežejo širšo uporabo.\nOdštevalniki ob rdeči luči pa imajo na voznike pomirjujoč učinek in pozitivno vplivajo na varnost v prometu, nesmiselno pa bi jih bilo zahtevati za vsak semafor, zato lahko ostanejo neobvezni oz. njihove rabe ni potrebno zakonsko omejevati.\n\n## 2. dokument\nSpoštovani,\nPredlagam, da se na semaforiziranih cestah, kjer je dovoljena omejitev višja od 50 km/h, uvede utripajoča zelena luč. Pred časom sem bila v Budimpešti, kjer zelena luč 3x utripne preden se prižge oranžna. Utripajoča zelena luč je pravi \"balzam\" za voznika, saj je dovolj časa, da se odloči, ali bo upočasnil ali pa pospešil in speljal preko zelene / oranžne luči. Pri nas pa smo z ukinitvijo utripajoče zelene luči povzročili napetost pri voznikih saj imamo 2 opciji: ali divje zaviramo, ali pa prevozimo oranžno /  rdečo luč. Zavedati se moramo, da na cestah, kjer je hitrost višja od 50 km/h ima voznik manj časa za razmišljanje in če bi uvedli utripajočo zeleno luč bi pridobili dovolj časa za pravilno odločitev in manj stresa.\n\n ## 3. dokument\nPredlagam vladi RS, da namesti ponovno odštevanje časa, ko se bo prižgala po zeleni oranžna luč na semaforju.  Nekateri semaforji v Ljubljani to imajo.  Ker točno vidiš, kdaj se bo po zeleni prižgala oranžna luč in je za voznika boljše, ker pričakuje spremembo in se pripravi.\n\n",
            "text/plain": [
              "<IPython.core.display.Markdown object>"
            ]
          },
          "metadata": {
            "tags": []
          }
        }
      ]
    },
    {
      "cell_type": "markdown",
      "metadata": {
        "id": "Ejk3riiTjrb9"
      },
      "source": [
        "Vsi štirje predlogi se nanašajo na odštevalnike in utripajoče luči pri semaforjih. Na takšen enostaven način lahko za poljuben predlog vladi poiščemo obstoječe predloge, ki so mu podobni."
      ]
    },
    {
      "cell_type": "markdown",
      "metadata": {
        "id": "9AKAx7L0ksqb"
      },
      "source": [
        "## Podobnost med dokumentom in besedo"
      ]
    },
    {
      "cell_type": "markdown",
      "metadata": {
        "id": "BNy4nCO6nm5e"
      },
      "source": [
        "Predpostavimo, da imamo seznam besed, za katere želimo vedeti, ali dobro opisujejo določeni dokument. To lahko izvemo na način podoben zgoraj opisanemu. Ker smo z modelom fastText dobili vložitve besed, nato pa le te združili v vložitve dokumentov, so tako besede kot dokumenti vektorji v istem vektorskem prostoru. Zato lahko računamo razdalje (podobnosti) med besedami in dokumenti. Vemo, da se prvi predlog vladi na seznamu nanaša na semaforje. Izračunajmo kosinusno podobnost (definirana je kot 1 - razdalja) med tem predlogom in besedami semafor, luč, zdravje in tehnologija."
      ]
    },
    {
      "cell_type": "code",
      "metadata": {
        "colab": {
          "base_uri": "https://localhost:8080/"
        },
        "id": "oBvisiZLbMwu",
        "outputId": "7214df87-fe77-4921-c7fb-bfaff1a750b7"
      },
      "source": [
        "for i, word in enumerate(['semafor', 'luč', 'zdravje', 'tehnologija']):\n",
        "    print(f\"Podobnost med dokumentom in besedo {word}: \" + \n",
        "          f\"{round(cos_sim(ft[0], word_embs[i, :]), 4)}\")"
      ],
      "execution_count": 5,
      "outputs": [
        {
          "output_type": "stream",
          "text": [
            "Podobnost med dokumentom in besedo semafor: 0.6116999983787537\n",
            "Podobnost med dokumentom in besedo luč: 0.5444999933242798\n",
            "Podobnost med dokumentom in besedo zdravje: 0.3411000072956085\n",
            "Podobnost med dokumentom in besedo tehnologija: 0.3946000039577484\n"
          ],
          "name": "stdout"
        }
      ]
    },
    {
      "cell_type": "markdown",
      "metadata": {
        "id": "X2I9tZINrA1R"
      },
      "source": [
        "Kot vidimo, sta besedi semafor in luč bolj podobni dokumentu kot besedi zdravje in tehnologija."
      ]
    }
  ]
}