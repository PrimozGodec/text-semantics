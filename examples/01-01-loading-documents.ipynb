{
 "cells": [
  {
   "cell_type": "markdown",
   "metadata": {},
   "source": [
    "# Branje dokumentov s strežnika\n",
    "\n",
    "Primer uporabe API-ja za prenos korpusov s strežnika ter branje in izpisovanje dokumentov z meta podatki."
   ]
  },
  {
   "cell_type": "code",
   "execution_count": 1,
   "metadata": {},
   "outputs": [],
   "source": [
    "from textsemantics.server_api import ServerAPI"
   ]
  },
  {
   "cell_type": "markdown",
   "metadata": {},
   "source": [
    "Ustvarimo povezavo s strežnikom. Pri povezovanju na strežnik projekta ni potrebno podati naslova strežnika. Nato pridobimo imena vseh korpusov (naborov podatkov), ki so na voljo na strežniku, in jih izpišemo."
   ]
  },
  {
   "cell_type": "code",
   "execution_count": 2,
   "metadata": {},
   "outputs": [
    {
     "name": "stdout",
     "output_type": "stream",
     "text": [
      "laws\n",
      "ontologies\n",
      "proposals-to-government\n"
     ]
    }
   ],
   "source": [
    "api = ServerAPI()\n",
    "datasets = api.list_datasets()\n",
    "for name, path in datasets: print(name)"
   ]
  },
  {
   "cell_type": "markdown",
   "metadata": {},
   "source": [
    "Izberemo korpus `laws` in pogledamo, kaj vsebuje."
   ]
  },
  {
   "cell_type": "code",
   "execution_count": 3,
   "metadata": {},
   "outputs": [
    {
     "data": {
      "text/plain": [
       "{'Instances number': 359, 'Metadata type': 'CSV'}"
      ]
     },
     "execution_count": 3,
     "metadata": {},
     "output_type": "execute_result"
    }
   ],
   "source": [
    "laws = datasets[0][0]\n",
    "api.get_dataset_info(laws)"
   ]
  },
  {
   "cell_type": "markdown",
   "metadata": {},
   "source": [
    "Izpišemo meta podatke za prvih 10 dokumentov izbranega korpusa."
   ]
  },
  {
   "cell_type": "code",
   "execution_count": 4,
   "metadata": {},
   "outputs": [
    {
     "data": {
      "text/html": [
       "<div>\n",
       "<style scoped>\n",
       "    .dataframe tbody tr th:only-of-type {\n",
       "        vertical-align: middle;\n",
       "    }\n",
       "\n",
       "    .dataframe tbody tr th {\n",
       "        vertical-align: top;\n",
       "    }\n",
       "\n",
       "    .dataframe thead th {\n",
       "        text-align: right;\n",
       "    }\n",
       "</style>\n",
       "<table border=\"1\" class=\"dataframe\">\n",
       "  <thead>\n",
       "    <tr style=\"text-align: right;\">\n",
       "      <th></th>\n",
       "      <th>Title</th>\n",
       "      <th>Uradni list Issue</th>\n",
       "      <th>Date published</th>\n",
       "      <th>Law text</th>\n",
       "      <th>Date passed</th>\n",
       "      <th>Date valid</th>\n",
       "      <th>Institution accepted</th>\n",
       "      <th>Institution prepared</th>\n",
       "    </tr>\n",
       "  </thead>\n",
       "  <tbody>\n",
       "    <tr>\n",
       "      <th>0</th>\n",
       "      <td>5479. Zakon o spremembah in dopolnitvah Zakona...</td>\n",
       "      <td>106/2010</td>\n",
       "      <td>2010-12-27</td>\n",
       "      <td>http://file.biolab.si/text-semantics/laws/5479...</td>\n",
       "      <td>2010-12-16</td>\n",
       "      <td>2011-01-11</td>\n",
       "      <td>Državni zbor RS</td>\n",
       "      <td>Ministrstvo za notranje zadeve</td>\n",
       "    </tr>\n",
       "    <tr>\n",
       "      <th>1</th>\n",
       "      <td>1679. Zakon o spremembah in dopolnitvah Zakona...</td>\n",
       "      <td>39/2006</td>\n",
       "      <td>2006-04-13</td>\n",
       "      <td>http://file.biolab.si/text-semantics/laws/1679...</td>\n",
       "      <td>2006-03-30</td>\n",
       "      <td>2006-04-28</td>\n",
       "      <td>Državni zbor RS</td>\n",
       "      <td>Ministrstvo za notranje zadeve</td>\n",
       "    </tr>\n",
       "    <tr>\n",
       "      <th>2</th>\n",
       "      <td>2936. Zakon o spremembah in dopolnitvah Zakona...</td>\n",
       "      <td>67/2019</td>\n",
       "      <td>2019-11-08</td>\n",
       "      <td>http://file.biolab.si/text-semantics/laws/2936...</td>\n",
       "      <td>2019-10-29</td>\n",
       "      <td>2019-11-23</td>\n",
       "      <td>Državni zbor RS</td>\n",
       "      <td>Ministrstvo za finance</td>\n",
       "    </tr>\n",
       "    <tr>\n",
       "      <th>3</th>\n",
       "      <td>3886. Zakon o spremembah in dopolnitvah Zakona...</td>\n",
       "      <td>91/2005</td>\n",
       "      <td>2005-10-14</td>\n",
       "      <td>http://file.biolab.si/text-semantics/laws/3886...</td>\n",
       "      <td>2005-09-29</td>\n",
       "      <td>2005-10-29</td>\n",
       "      <td>Državni zbor RS</td>\n",
       "      <td>Ministrstvo za pravosodje</td>\n",
       "    </tr>\n",
       "    <tr>\n",
       "      <th>4</th>\n",
       "      <td>625. Zakon o spremembah in dopolnitvah Zakona ...</td>\n",
       "      <td>17/2015</td>\n",
       "      <td>2015-03-13</td>\n",
       "      <td>http://file.biolab.si/text-semantics/laws/625-...</td>\n",
       "      <td>2015-03-04</td>\n",
       "      <td>2015-03-28</td>\n",
       "      <td>Državni zbor RS</td>\n",
       "      <td>Ministrstvo za pravosodje</td>\n",
       "    </tr>\n",
       "    <tr>\n",
       "      <th>5</th>\n",
       "      <td>1763. Zakon o spremembah in dopolnitvah Zakona...</td>\n",
       "      <td>33/2007</td>\n",
       "      <td>2007-04-13</td>\n",
       "      <td>http://file.biolab.si/text-semantics/laws/1763...</td>\n",
       "      <td>2007-03-30</td>\n",
       "      <td>2007-04-28</td>\n",
       "      <td>Državni zbor RS</td>\n",
       "      <td>Ministrstvo za pravosodje</td>\n",
       "    </tr>\n",
       "    <tr>\n",
       "      <th>6</th>\n",
       "      <td>2815. Zakon o spremembah in dopolnitvah Zakona...</td>\n",
       "      <td>65/2008</td>\n",
       "      <td>2008-06-30</td>\n",
       "      <td>http://file.biolab.si/text-semantics/laws/2815...</td>\n",
       "      <td>2008-06-18</td>\n",
       "      <td>2008-07-15</td>\n",
       "      <td>Državni zbor RS</td>\n",
       "      <td>Ministrstvo za javno upravo</td>\n",
       "    </tr>\n",
       "    <tr>\n",
       "      <th>7</th>\n",
       "      <td>2429. Zakon o spremembah in dopolnitvah Zakona...</td>\n",
       "      <td>49/2009</td>\n",
       "      <td>2009-06-29</td>\n",
       "      <td>http://file.biolab.si/text-semantics/laws/2429...</td>\n",
       "      <td>2009-06-17</td>\n",
       "      <td>2009-07-14</td>\n",
       "      <td>Državni zbor RS</td>\n",
       "      <td>Ministrstvo za pravosodje</td>\n",
       "    </tr>\n",
       "    <tr>\n",
       "      <th>8</th>\n",
       "      <td>1678. Zakon o spremembi in dopolnitvi Zakona o...</td>\n",
       "      <td>39/2006</td>\n",
       "      <td>2006-04-13</td>\n",
       "      <td>http://file.biolab.si/text-semantics/laws/1678...</td>\n",
       "      <td>2006-03-30</td>\n",
       "      <td>2006-04-28</td>\n",
       "      <td>Državni zbor RS</td>\n",
       "      <td>Ministrstvo za notranje zadeve</td>\n",
       "    </tr>\n",
       "    <tr>\n",
       "      <th>9</th>\n",
       "      <td>2439. Zakon o spremembah in dopolnitvah Zakona...</td>\n",
       "      <td>54/2017</td>\n",
       "      <td>2017-09-29</td>\n",
       "      <td>http://file.biolab.si/text-semantics/laws/2439...</td>\n",
       "      <td>2017-09-20</td>\n",
       "      <td>2017-10-14</td>\n",
       "      <td>Državni zbor RS</td>\n",
       "      <td>Ministrstvo za pravosodje</td>\n",
       "    </tr>\n",
       "  </tbody>\n",
       "</table>\n",
       "</div>"
      ],
      "text/plain": [
       "                                               Title Uradni list Issue  \\\n",
       "0  5479. Zakon o spremembah in dopolnitvah Zakona...          106/2010   \n",
       "1  1679. Zakon o spremembah in dopolnitvah Zakona...           39/2006   \n",
       "2  2936. Zakon o spremembah in dopolnitvah Zakona...           67/2019   \n",
       "3  3886. Zakon o spremembah in dopolnitvah Zakona...           91/2005   \n",
       "4  625. Zakon o spremembah in dopolnitvah Zakona ...           17/2015   \n",
       "5  1763. Zakon o spremembah in dopolnitvah Zakona...           33/2007   \n",
       "6  2815. Zakon o spremembah in dopolnitvah Zakona...           65/2008   \n",
       "7  2429. Zakon o spremembah in dopolnitvah Zakona...           49/2009   \n",
       "8  1678. Zakon o spremembi in dopolnitvi Zakona o...           39/2006   \n",
       "9  2439. Zakon o spremembah in dopolnitvah Zakona...           54/2017   \n",
       "\n",
       "  Date published                                           Law text  \\\n",
       "0     2010-12-27  http://file.biolab.si/text-semantics/laws/5479...   \n",
       "1     2006-04-13  http://file.biolab.si/text-semantics/laws/1679...   \n",
       "2     2019-11-08  http://file.biolab.si/text-semantics/laws/2936...   \n",
       "3     2005-10-14  http://file.biolab.si/text-semantics/laws/3886...   \n",
       "4     2015-03-13  http://file.biolab.si/text-semantics/laws/625-...   \n",
       "5     2007-04-13  http://file.biolab.si/text-semantics/laws/1763...   \n",
       "6     2008-06-30  http://file.biolab.si/text-semantics/laws/2815...   \n",
       "7     2009-06-29  http://file.biolab.si/text-semantics/laws/2429...   \n",
       "8     2006-04-13  http://file.biolab.si/text-semantics/laws/1678...   \n",
       "9     2017-09-29  http://file.biolab.si/text-semantics/laws/2439...   \n",
       "\n",
       "  Date passed  Date valid Institution accepted            Institution prepared  \n",
       "0  2010-12-16  2011-01-11      Državni zbor RS  Ministrstvo za notranje zadeve  \n",
       "1  2006-03-30  2006-04-28      Državni zbor RS  Ministrstvo za notranje zadeve  \n",
       "2  2019-10-29  2019-11-23      Državni zbor RS          Ministrstvo za finance  \n",
       "3  2005-09-29  2005-10-29      Državni zbor RS       Ministrstvo za pravosodje  \n",
       "4  2015-03-04  2015-03-28      Državni zbor RS       Ministrstvo za pravosodje  \n",
       "5  2007-03-30  2007-04-28      Državni zbor RS       Ministrstvo za pravosodje  \n",
       "6  2008-06-18  2008-07-15      Državni zbor RS     Ministrstvo za javno upravo  \n",
       "7  2009-06-17  2009-07-14      Državni zbor RS       Ministrstvo za pravosodje  \n",
       "8  2006-03-30  2006-04-28      Državni zbor RS  Ministrstvo za notranje zadeve  \n",
       "9  2017-09-20  2017-10-14      Državni zbor RS       Ministrstvo za pravosodje  "
      ]
     },
     "execution_count": 4,
     "metadata": {},
     "output_type": "execute_result"
    }
   ],
   "source": [
    "metadata = api.get_metadata(laws)\n",
    "metadata.head(10)"
   ]
  },
  {
   "cell_type": "markdown",
   "metadata": {},
   "source": [
    "Izberemo prvi dokument in ga naložimo. Nato pogledamo vsebino."
   ]
  },
  {
   "cell_type": "code",
   "execution_count": 5,
   "metadata": {},
   "outputs": [
    {
     "data": {
      "text/plain": [
       "'Na podlagi druge alinee prvega odstavka 107. člena in prvega odstavka 91. člena Ustave Republike Slovenije izdajam Razglašam Zakon o spremembah in dopolnitvah Zakona o matičnem registru (ZMatR-B), ki ga je sprejel Državni zbor Republike Slovenije na 23. seji 16. decembra 2010. 1. člen V Zakonu o matičnem registru (Uradni list RS, št. 59/06 – uradno prečiščeno besedilo) se v 5. členu črta tretji odstavek. 2. člen Za 14. členom se doda nov 14.a člen, ki se glasi: »14.a člen Posebna ureditev vpisa smrti v matični register Smrt oseb, ki so življenje izgubile neposredno po koncu druge svetovne vojne ali med njo, in ni bila vpisana v matično knjigo umrlih oziroma v matični register, se vpiše v matični register na podlagi pravnomočne odločbe, s katero se ugotovi smrt v skladu z določbami tega člena. Predlog za uvedbo postopka se vloži pri pristojnem organu, na območju katerega je kraj, kjer je imela umrla oseba zadnje stalno prebivališče, če tega ni mogoče ugotoviti, pa pri pristojnem organu, na območju katerega je kraj rojstva umrle osebe. Predlog za uvedbo postopka lahko vložijo sorodniki umrle osebe v ravni in stranski vrsti brez omejitev, svojci po svaštvu in državni tožilec. Društva in druge pravne ter fizične osebe, ki imajo podatke, ki so potrebni za vpis smrti oseb iz prvega odstavka tega člena, jih lahko posredujejo državnemu tožilcu za potrebe vložitve predloga iz prejšnjega odstavka. Predlagatelj postopka iz tretjega odstavka tega člena mora predlogu predložiti dokaz, s katerim verjetno izkaže, da je oseba, za katero je bil podan predlog za ugotovitev in vpis smrti v matični register, umrla. Kot dokaz iz prejšnjega odstavka šteje izjava stranke, pisna izjava priče, ustna izjava priče, dana na zapisnik, listine ali druga dokazna sredstva. Če točnega datuma in kraja smrti ni mogoče ugotoviti, se lahko kot datum smrti vpiše samo mesec in leto smrti ali samo leto smrti, ne vpiše pa se kraja smrti. Smrt vpiše v matični register pristojni organ, ki je izdal odločbo o ugotovitvi smrti. Če se ugotovi, da je oseba, katere smrt je vpisana v matični register v skladu s tem členom, živa, se izdana odločba izreče za nično.«. 3. člen V 17. členu se drugi odstavek spremeni tako, da se glasi: »Ne glede na določbo prejšnjega odstavka lahko rojstvo, sklenitev zakonske zveze ali smrt vpiše tudi matičar drugega pristojnega organa, ki je izpisek iz matične knjige pristojnega tujega organa pridobil ali mu je bil predložen.«. Tretji odstavek se črta. 4. člen V prvem odstavku 32. člena se črta drugi stavek. 5. člen 33. člen se spremeni tako, da se glasi: »33. člen Kazni Z globo od 100 do 200 eurov se za prekršek kaznuje posameznik, ki v predpisanem roku ne prijavi rojstva (drugi odstavek 7. in 8. člen), otrokovega osebnega imena (9. člen) ali smrti (drugi odstavek 12. in 13. člen). Z globo od 1.000 do 4.500 eurov se za prekršek kaznuje pravna oseba, ki v predpisanem roku ne prijavi rojstva (prvi odstavek 7. in 8. člen) ali smrti (prvi odstavek 12. in 13. člen), odgovorna oseba pravne osebe pa za isti prekršek z globo od 200 do 400 eurov. Z globo od 200 do 400 eurov se za prekršek kaznuje odgovorna oseba organa, ki ne pošlje pravnomočne sodne odločbe ali druge javne listine pristojnemu matičarju za vpis v matični register v predpisanem roku (drugi odstavek 10., drugi odstavek 14. in prvi odstavek 20. člena).«. 6. člen Z dnem, ko začne veljati ta zakon, preneha veljati Pravilnik o vsebini, programu in načinu opravljanja izpita za matičarja (Uradni list RS, št. 11/04 in 79/07). 7. člen Ta zakon začne veljati petnajsti dan po objavi v Uradnem listu Republike Slovenije.'"
      ]
     },
     "execution_count": 5,
     "metadata": {},
     "output_type": "execute_result"
    }
   ],
   "source": [
    "doc = api.get_text(metadata[\"Law text\"][0])\n",
    "\" \".join(doc.split())"
   ]
  },
  {
   "cell_type": "code",
   "execution_count": null,
   "metadata": {},
   "outputs": [],
   "source": []
  }
 ],
 "metadata": {
  "kernelspec": {
   "display_name": "Python 3",
   "language": "python",
   "name": "python3"
  },
  "language_info": {
   "codemirror_mode": {
    "name": "ipython",
    "version": 3
   },
   "file_extension": ".py",
   "mimetype": "text/x-python",
   "name": "python",
   "nbconvert_exporter": "python",
   "pygments_lexer": "ipython3",
   "version": "3.8.2"
  }
 },
 "nbformat": 4,
 "nbformat_minor": 4
}
