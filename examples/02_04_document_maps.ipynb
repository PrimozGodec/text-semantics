{
  "nbformat": 4,
  "nbformat_minor": 0,
  "metadata": {
    "colab": {
      "name": "02-04-document-maps.ipynb",
      "provenance": [],
      "collapsed_sections": []
    },
    "kernelspec": {
      "name": "python3",
      "display_name": "Python 3"
    }
  },
  "cells": [
    {
      "cell_type": "markdown",
      "metadata": {
        "id": "K7m5i0xmrT2C"
      },
      "source": [
        "# Odkrivanje skupin in izris kart dokumentov"
      ]
    },
    {
      "cell_type": "markdown",
      "metadata": {
        "id": "_iE6GeL2MdGX"
      },
      "source": [
        "Dimenzionalnost vektorskih predstavitev dokumentov lahko zmanjšamo na 2, kar nam omogoča prikaz dvodimenzionalne karte dokumentov, na kateri vsaka točka predstavlja dokument. Poleg tega lahko v dvodimenzionalnem prostoru odkrijemo skupine podobnih dokumentov in vsako skupino na karti obarvamo z različno barvo. To nam omogoča dober vpogled v celotno množico dokumentov."
      ]
    },
    {
      "cell_type": "markdown",
      "metadata": {
        "id": "CSZ5JxEKKvLZ"
      },
      "source": [
        "Za začetek si spet preko API-ja pridobimo besedila zadnjih 100 predlogov vladi, ki vsebujejo vsaj 50 znakov ter iz datoteke preberemo fastText vektorje iz prejšnjega primera."
      ]
    },
    {
      "cell_type": "code",
      "metadata": {
        "id": "fbCs3qyVXthm"
      },
      "source": [
        "from textsemantics.server_api import ServerAPI\n",
        "import numpy as np\n",
        "from scipy.sparse import load_npz\n",
        "\n",
        "api = ServerAPI()\n",
        "datasets = api.list_datasets()\n",
        "metadata = api.get_metadata(datasets[2][0], sample_size=100, sampling_strategy='latest')\n",
        "\n",
        "texts = api.get_texts(urls=metadata['text'])\n",
        "texts = [text for text in texts if len(text) > 50]\n",
        "\n",
        "ft = np.load('data/ft.npy')"
      ],
      "execution_count": 1,
      "outputs": []
    },
    {
      "cell_type": "code",
      "metadata": {
        "id": "u1XPK0pzYB1f"
      },
      "source": [
        "from openTSNE.sklearn import TSNE\n",
        "tsne = TSNE().fit(ft)"
      ],
      "execution_count": 2,
      "outputs": []
    },
    {
      "cell_type": "code",
      "metadata": {
        "colab": {
          "base_uri": "https://localhost:8080/"
        },
        "id": "vFTSZKiXYCh4",
        "outputId": "79ed8b0a-7483-4d7b-9a77-b2cde41874b1"
      },
      "source": [
        "from hdbscan import HDBSCAN\n",
        "\n",
        "hdbscan = HDBSCAN(min_cluster_size=2, min_samples=1).fit(tsne.embedding_)\n",
        "labels = hdbscan.labels_\n",
        "n_clusters = len(set(labels)) - (1 if -1 in labels else 0)\n",
        "n_noise = list(labels).count(-1)\n",
        "print(f\"Število skupin: {n_clusters}, Število dokumentov, ki niso v skupinah: {n_noise}\")"
      ],
      "execution_count": 3,
      "outputs": [
        {
          "output_type": "stream",
          "text": [
            "Število skupin: 33, Število dokumentov, ki niso v skupinah: 15\n"
          ],
          "name": "stdout"
        }
      ]
    },
    {
      "cell_type": "code",
      "metadata": {
        "colab": {
          "base_uri": "https://localhost:8080/",
          "height": 446
        },
        "id": "ThmaOGN4YFIJ",
        "outputId": "8292e288-81ed-459b-9b5f-302c4fb4c85f"
      },
      "source": [
        "from matplotlib import pyplot as plt\n",
        "import seaborn as sns\n",
        "%matplotlib inline\n",
        "\n",
        "plt.figure(figsize=(7, 7))\n",
        "plt.style.use('seaborn')\n",
        "idx = np.where(labels > -1)[0]\n",
        "palette = sns.color_palette('colorblind', n_clusters)\n",
        "colors = [sns.desaturate(palette[l] if l >= -1 else (0.5, 0.5, 0.5), p) for \n",
        "          l, p in zip(hdbscan.labels_, hdbscan.probabilities_)]\n",
        "plt.scatter(tsne.embedding_[:, 0], tsne.embedding_[:, 1], c=colors,\n",
        "            cmap=plt.get_cmap('Spectral'))"
      ],
      "execution_count": 4,
      "outputs": [
        {
          "output_type": "execute_result",
          "data": {
            "text/plain": [
              "<matplotlib.collections.PathCollection at 0x7fd99b8b6a90>"
            ]
          },
          "metadata": {
            "tags": []
          },
          "execution_count": 4
        },
        {
          "output_type": "display_data",
          "data": {
            "image/png": "[encoded data removed]",
            "text/plain": [
              "<Figure size 504x504 with 1 Axes>"
            ]
          },
          "metadata": {
            "tags": [],
            "needs_background": "light"
          }
        }
      ]
    },
    {
      "cell_type": "markdown",
      "metadata": {
        "id": "7VWqs8zuTk-a"
      },
      "source": [
        "Če bi pogledali dokumente, ki se nahajajo v eni izmed skupin, bi opazili, da se nanašajo na isto ali podobno temo."
      ]
    }
  ]
}